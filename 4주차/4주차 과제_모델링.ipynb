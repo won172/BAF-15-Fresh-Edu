{
 "cells": [
  {
   "cell_type": "markdown",
   "id": "272d2472-69b4-41e8-9105-4e8e0da837dc",
   "metadata": {},
   "source": [
    "# <따릉이 대여량 예측하기>"
   ]
  },
  {
   "cell_type": "markdown",
   "id": "94bc646b-274a-4810-9b17-ae653d9d7117",
   "metadata": {},
   "source": [
    "## 1. 데이터 확인"
   ]
  },
  {
   "cell_type": "markdown",
   "id": "7883899f-26ff-469e-a1ee-3a92e29750c0",
   "metadata": {},
   "source": [
    "### 라이브러리 불러오기"
   ]
  },
  {
   "cell_type": "code",
   "execution_count": 1,
   "id": "682a264c-8851-40ec-9229-d8d8ba4296a5",
   "metadata": {},
   "outputs": [],
   "source": [
    "import pandas as pd\n",
    "import numpy as np\n",
    "import matplotlib.pyplot as plt\n",
    "import seaborn as sns\n",
    "\n",
    "%config InlineBackend.figure_format = 'retina'  #선명하게 만들기\n",
    "\n",
    "import warnings\n",
    "warnings.filterwarnings(\"ignore\")\n",
    "\n",
    "pd.set_option('display.max_columns', None) # 모든 열 출력\n",
    "\n",
    "from sklearn.metrics import (\n",
    "    mean_squared_error,\n",
    "    r2_score,\n",
    "    mean_absolute_error,\n",
    ")\n",
    "from sklearn.model_selection import train_test_split, GridSearchCV, KFold\n",
    "from sklearn.linear_model import LinearRegression, Ridge, Lasso\n",
    "from sklearn.preprocessing import (\n",
    "    StandardScaler, \n",
    "    OneHotEncoder\n",
    ")\n",
    "from sklearn.ensemble import RandomForestRegressor, GradientBoostingRegressor\n",
    "from xgboost import XGBRegressor\n",
    "from lightgbm import LGBMRegressor"
   ]
  },
  {
   "cell_type": "markdown",
   "id": "7aab9cd9-6457-46dd-96ef-b3beb1b14f11",
   "metadata": {},
   "source": [
    "### 데이터 불러오기"
   ]
  },
  {
   "cell_type": "code",
   "execution_count": 23,
   "id": "bc03680a-a0bb-4305-bbe6-d6edbc8ff546",
   "metadata": {},
   "outputs": [],
   "source": [
    "bike = pd.read_csv('../비어플/train.csv', encoding='cp949')\n",
    "test = pd.read_csv('../비어플/test.csv', encoding='cp949')"
   ]
  },
  {
   "cell_type": "code",
   "execution_count": 24,
   "id": "a82cd1cc-627b-4b23-8dd8-b92f4f55f524",
   "metadata": {},
   "outputs": [
    {
     "data": {
      "text/html": [
       "<div>\n",
       "<style scoped>\n",
       "    .dataframe tbody tr th:only-of-type {\n",
       "        vertical-align: middle;\n",
       "    }\n",
       "\n",
       "    .dataframe tbody tr th {\n",
       "        vertical-align: top;\n",
       "    }\n",
       "\n",
       "    .dataframe thead th {\n",
       "        text-align: right;\n",
       "    }\n",
       "</style>\n",
       "<table border=\"1\" class=\"dataframe\">\n",
       "  <thead>\n",
       "    <tr style=\"text-align: right;\">\n",
       "      <th></th>\n",
       "      <th>Date</th>\n",
       "      <th>Rented Bike Count</th>\n",
       "      <th>Hour</th>\n",
       "      <th>Temperature(°C)</th>\n",
       "      <th>Humidity(%)</th>\n",
       "      <th>Wind speed (m/s)</th>\n",
       "      <th>Visibility (10m)</th>\n",
       "      <th>Dew point temperature(°C)</th>\n",
       "      <th>Solar Radiation (MJ/m2)</th>\n",
       "      <th>Rainfall(mm)</th>\n",
       "      <th>Snowfall (cm)</th>\n",
       "      <th>Seasons</th>\n",
       "      <th>Holiday</th>\n",
       "      <th>Functioning Day</th>\n",
       "    </tr>\n",
       "  </thead>\n",
       "  <tbody>\n",
       "    <tr>\n",
       "      <th>0</th>\n",
       "      <td>24/10/2018</td>\n",
       "      <td>1492</td>\n",
       "      <td>16</td>\n",
       "      <td>NaN</td>\n",
       "      <td>42</td>\n",
       "      <td>1.3</td>\n",
       "      <td>1976</td>\n",
       "      <td>5.0</td>\n",
       "      <td>1.22</td>\n",
       "      <td>0.0</td>\n",
       "      <td>0.0</td>\n",
       "      <td>NaN</td>\n",
       "      <td>No Holiday</td>\n",
       "      <td>Yes</td>\n",
       "    </tr>\n",
       "    <tr>\n",
       "      <th>1</th>\n",
       "      <td>01/05/2018</td>\n",
       "      <td>1536</td>\n",
       "      <td>14</td>\n",
       "      <td>23.0</td>\n",
       "      <td>64</td>\n",
       "      <td>2.8</td>\n",
       "      <td>520</td>\n",
       "      <td>15.8</td>\n",
       "      <td>1.59</td>\n",
       "      <td>0.0</td>\n",
       "      <td>0.0</td>\n",
       "      <td>Spring</td>\n",
       "      <td>Holiday</td>\n",
       "      <td>Yes</td>\n",
       "    </tr>\n",
       "    <tr>\n",
       "      <th>2</th>\n",
       "      <td>14/11/2018</td>\n",
       "      <td>327</td>\n",
       "      <td>2</td>\n",
       "      <td>6.2</td>\n",
       "      <td>59</td>\n",
       "      <td>0.6</td>\n",
       "      <td>1584</td>\n",
       "      <td>-1.2</td>\n",
       "      <td>0.00</td>\n",
       "      <td>0.0</td>\n",
       "      <td>0.0</td>\n",
       "      <td>Autumn</td>\n",
       "      <td>No Holiday</td>\n",
       "      <td>Yes</td>\n",
       "    </tr>\n",
       "    <tr>\n",
       "      <th>3</th>\n",
       "      <td>31/08/2018</td>\n",
       "      <td>170</td>\n",
       "      <td>4</td>\n",
       "      <td>23.2</td>\n",
       "      <td>83</td>\n",
       "      <td>1.6</td>\n",
       "      <td>1102</td>\n",
       "      <td>20.1</td>\n",
       "      <td>0.00</td>\n",
       "      <td>0.0</td>\n",
       "      <td>0.0</td>\n",
       "      <td>Summer</td>\n",
       "      <td>No Holiday</td>\n",
       "      <td>Yes</td>\n",
       "    </tr>\n",
       "    <tr>\n",
       "      <th>4</th>\n",
       "      <td>26/06/2018</td>\n",
       "      <td>45</td>\n",
       "      <td>5</td>\n",
       "      <td>23.7</td>\n",
       "      <td>64</td>\n",
       "      <td>0.9</td>\n",
       "      <td>876</td>\n",
       "      <td>16.4</td>\n",
       "      <td>0.00</td>\n",
       "      <td>0.1</td>\n",
       "      <td>0.0</td>\n",
       "      <td>Summer</td>\n",
       "      <td>No Holiday</td>\n",
       "      <td>Yes</td>\n",
       "    </tr>\n",
       "  </tbody>\n",
       "</table>\n",
       "</div>"
      ],
      "text/plain": [
       "         Date  Rented Bike Count  Hour  Temperature(°C)  Humidity(%)  \\\n",
       "0  24/10/2018               1492    16              NaN           42   \n",
       "1  01/05/2018               1536    14             23.0           64   \n",
       "2  14/11/2018                327     2              6.2           59   \n",
       "3  31/08/2018                170     4             23.2           83   \n",
       "4  26/06/2018                 45     5             23.7           64   \n",
       "\n",
       "   Wind speed (m/s)  Visibility (10m)  Dew point temperature(°C)  \\\n",
       "0               1.3              1976                        5.0   \n",
       "1               2.8               520                       15.8   \n",
       "2               0.6              1584                       -1.2   \n",
       "3               1.6              1102                       20.1   \n",
       "4               0.9               876                       16.4   \n",
       "\n",
       "   Solar Radiation (MJ/m2)  Rainfall(mm)  Snowfall (cm) Seasons     Holiday  \\\n",
       "0                     1.22           0.0            0.0     NaN  No Holiday   \n",
       "1                     1.59           0.0            0.0  Spring     Holiday   \n",
       "2                     0.00           0.0            0.0  Autumn  No Holiday   \n",
       "3                     0.00           0.0            0.0  Summer  No Holiday   \n",
       "4                     0.00           0.1            0.0  Summer  No Holiday   \n",
       "\n",
       "  Functioning Day  \n",
       "0             Yes  \n",
       "1             Yes  \n",
       "2             Yes  \n",
       "3             Yes  \n",
       "4             Yes  "
      ]
     },
     "execution_count": 24,
     "metadata": {},
     "output_type": "execute_result"
    }
   ],
   "source": [
    "bike.head()"
   ]
  },
  {
   "cell_type": "code",
   "execution_count": 25,
   "id": "ff029cbf-82b3-4e78-93dc-095f9f213830",
   "metadata": {},
   "outputs": [
    {
     "data": {
      "text/html": [
       "<div>\n",
       "<style scoped>\n",
       "    .dataframe tbody tr th:only-of-type {\n",
       "        vertical-align: middle;\n",
       "    }\n",
       "\n",
       "    .dataframe tbody tr th {\n",
       "        vertical-align: top;\n",
       "    }\n",
       "\n",
       "    .dataframe thead th {\n",
       "        text-align: right;\n",
       "    }\n",
       "</style>\n",
       "<table border=\"1\" class=\"dataframe\">\n",
       "  <thead>\n",
       "    <tr style=\"text-align: right;\">\n",
       "      <th></th>\n",
       "      <th>Date</th>\n",
       "      <th>Hour</th>\n",
       "      <th>Temperature(°C)</th>\n",
       "      <th>Humidity(%)</th>\n",
       "      <th>Wind speed (m/s)</th>\n",
       "      <th>Visibility (10m)</th>\n",
       "      <th>Dew point temperature(°C)</th>\n",
       "      <th>Solar Radiation (MJ/m2)</th>\n",
       "      <th>Rainfall(mm)</th>\n",
       "      <th>Snowfall (cm)</th>\n",
       "      <th>Seasons</th>\n",
       "      <th>Holiday</th>\n",
       "      <th>Functioning Day</th>\n",
       "    </tr>\n",
       "  </thead>\n",
       "  <tbody>\n",
       "    <tr>\n",
       "      <th>0</th>\n",
       "      <td>11/07/2018</td>\n",
       "      <td>22</td>\n",
       "      <td>27.1</td>\n",
       "      <td>79</td>\n",
       "      <td>1.2</td>\n",
       "      <td>1578</td>\n",
       "      <td>23.1</td>\n",
       "      <td>0.00</td>\n",
       "      <td>0.0</td>\n",
       "      <td>0.0</td>\n",
       "      <td>Summer</td>\n",
       "      <td>No Holiday</td>\n",
       "      <td>Yes</td>\n",
       "    </tr>\n",
       "    <tr>\n",
       "      <th>1</th>\n",
       "      <td>28/11/2018</td>\n",
       "      <td>11</td>\n",
       "      <td>5.7</td>\n",
       "      <td>15</td>\n",
       "      <td>1.1</td>\n",
       "      <td>1419</td>\n",
       "      <td>-19.0</td>\n",
       "      <td>0.98</td>\n",
       "      <td>0.0</td>\n",
       "      <td>0.0</td>\n",
       "      <td>Autumn</td>\n",
       "      <td>No Holiday</td>\n",
       "      <td>Yes</td>\n",
       "    </tr>\n",
       "    <tr>\n",
       "      <th>2</th>\n",
       "      <td>18/04/2018</td>\n",
       "      <td>15</td>\n",
       "      <td>19.0</td>\n",
       "      <td>21</td>\n",
       "      <td>3.3</td>\n",
       "      <td>1716</td>\n",
       "      <td>-3.8</td>\n",
       "      <td>2.88</td>\n",
       "      <td>0.0</td>\n",
       "      <td>0.0</td>\n",
       "      <td>Spring</td>\n",
       "      <td>No Holiday</td>\n",
       "      <td>Yes</td>\n",
       "    </tr>\n",
       "    <tr>\n",
       "      <th>3</th>\n",
       "      <td>09/03/2018</td>\n",
       "      <td>14</td>\n",
       "      <td>8.0</td>\n",
       "      <td>42</td>\n",
       "      <td>NaN</td>\n",
       "      <td>1690</td>\n",
       "      <td>-4.1</td>\n",
       "      <td>1.24</td>\n",
       "      <td>0.0</td>\n",
       "      <td>0.0</td>\n",
       "      <td>Spring</td>\n",
       "      <td>No Holiday</td>\n",
       "      <td>Yes</td>\n",
       "    </tr>\n",
       "    <tr>\n",
       "      <th>4</th>\n",
       "      <td>28/10/2018</td>\n",
       "      <td>16</td>\n",
       "      <td>12.2</td>\n",
       "      <td>65</td>\n",
       "      <td>1.9</td>\n",
       "      <td>2000</td>\n",
       "      <td>5.8</td>\n",
       "      <td>0.52</td>\n",
       "      <td>0.0</td>\n",
       "      <td>0.0</td>\n",
       "      <td>Autumn</td>\n",
       "      <td>No Holiday</td>\n",
       "      <td>Yes</td>\n",
       "    </tr>\n",
       "  </tbody>\n",
       "</table>\n",
       "</div>"
      ],
      "text/plain": [
       "         Date  Hour  Temperature(°C)  Humidity(%)  Wind speed (m/s)  \\\n",
       "0  11/07/2018    22             27.1           79               1.2   \n",
       "1  28/11/2018    11              5.7           15               1.1   \n",
       "2  18/04/2018    15             19.0           21               3.3   \n",
       "3  09/03/2018    14              8.0           42               NaN   \n",
       "4  28/10/2018    16             12.2           65               1.9   \n",
       "\n",
       "   Visibility (10m)  Dew point temperature(°C)  Solar Radiation (MJ/m2)  \\\n",
       "0              1578                       23.1                     0.00   \n",
       "1              1419                      -19.0                     0.98   \n",
       "2              1716                       -3.8                     2.88   \n",
       "3              1690                       -4.1                     1.24   \n",
       "4              2000                        5.8                     0.52   \n",
       "\n",
       "   Rainfall(mm)  Snowfall (cm) Seasons     Holiday Functioning Day  \n",
       "0           0.0            0.0  Summer  No Holiday             Yes  \n",
       "1           0.0            0.0  Autumn  No Holiday             Yes  \n",
       "2           0.0            0.0  Spring  No Holiday             Yes  \n",
       "3           0.0            0.0  Spring  No Holiday             Yes  \n",
       "4           0.0            0.0  Autumn  No Holiday             Yes  "
      ]
     },
     "execution_count": 25,
     "metadata": {},
     "output_type": "execute_result"
    }
   ],
   "source": [
    "test.head()"
   ]
  },
  {
   "cell_type": "code",
   "execution_count": 26,
   "id": "46f4820b-907f-4ed8-8f91-77df47993eea",
   "metadata": {},
   "outputs": [
    {
     "name": "stdout",
     "output_type": "stream",
     "text": [
      "(7008, 14) (1752, 13)\n"
     ]
    }
   ],
   "source": [
    "print(bike.shape, test.shape)"
   ]
  },
  {
   "cell_type": "markdown",
   "id": "b09e5ce0-f1e5-451e-9de1-a11f3d06a4ef",
   "metadata": {},
   "source": [
    "## 2. 데이터 1차 전처리\n",
    "전처리 근거는 4주차 과제_전처리.ipynb 참고"
   ]
  },
  {
   "cell_type": "markdown",
   "id": "b546f921-bf8a-4933-a333-34db2e5c25b6",
   "metadata": {},
   "source": [
    "### 2.1 칼럼명 수정"
   ]
  },
  {
   "cell_type": "code",
   "execution_count": 27,
   "id": "ce1566fd-30a6-428a-be0a-8c33eacc617e",
   "metadata": {},
   "outputs": [],
   "source": [
    "bike.columns = ['Date','Rented Bike Count','Hour','Temperature','Humidity','Wind speed','Visibility',\n",
    "               'Dew point temperature','Solar Radiation','Rainfall','Snowfall','Seasons','Holiday','Functioning Day']\n",
    "test.columns = ['Date','Hour','Temperature','Humidity','Wind speed','Visibility',\n",
    "               'Dew point temperature','Solar Radiation','Rainfall','Snowfall','Seasons','Holiday','Functioning Day']"
   ]
  },
  {
   "cell_type": "markdown",
   "id": "0c33dff0-e1d9-4bc9-ad52-fd609eabac31",
   "metadata": {},
   "source": [
    "### 2.2 파생변수 생성"
   ]
  },
  {
   "cell_type": "code",
   "execution_count": 28,
   "id": "c8996dfe-6f23-4459-a5b5-4a3f8be1ef4c",
   "metadata": {},
   "outputs": [],
   "source": [
    "bike['datetime'] = pd.to_datetime(bike['Date'], format='%d/%m/%Y')\n",
    "bike['year'] = bike['datetime'].dt.year\n",
    "bike['month'] = bike['datetime'].dt.month\n",
    "bike['day'] = bike['datetime'].dt.day\n",
    "\n",
    "test['datetime'] = pd.to_datetime(test['Date'], format='%d/%m/%Y')\n",
    "test['year'] = test['datetime'].dt.year\n",
    "test['month'] = test['datetime'].dt.month\n",
    "test['day'] = test['datetime'].dt.day"
   ]
  },
  {
   "cell_type": "code",
   "execution_count": 29,
   "id": "fead4333-28d5-4605-a33e-2520d30e6039",
   "metadata": {},
   "outputs": [],
   "source": [
    "bike['week'] = bike['datetime'].dt.day_name()\n",
    "test['week'] = test['datetime'].dt.day_name()"
   ]
  },
  {
   "cell_type": "code",
   "execution_count": 30,
   "id": "0812e032-32a9-4428-afb7-61e27f5c188c",
   "metadata": {},
   "outputs": [],
   "source": [
    "bike['Rainfall_Binary'] = bike['Rainfall'].apply(lambda x: 1 if x > 0.0 else 0)\n",
    "test['Rainfall_Binary'] = test['Rainfall'].apply(lambda x: 1 if x > 0.0 else 0)\n",
    "\n",
    "bike['Snowfall_Binary'] = bike['Snowfall'].apply(lambda x: 1 if x > 0.0 else 0)\n",
    "test['Snowfall_Binary'] = test['Snowfall'].apply(lambda x: 1 if x > 0.0 else 0)"
   ]
  },
  {
   "cell_type": "markdown",
   "id": "80c05777-1ab6-4a16-8965-6c356667f7a5",
   "metadata": {},
   "source": [
    "### 2.3 결측치 처리"
   ]
  },
  {
   "cell_type": "markdown",
   "id": "d4bddc97-0a86-4f64-aebe-60cbfc383c23",
   "metadata": {},
   "source": [
    "#### Seasons"
   ]
  },
  {
   "cell_type": "code",
   "execution_count": 31,
   "id": "13766452-0bb4-499a-955a-85daa4dc4127",
   "metadata": {},
   "outputs": [],
   "source": [
    "# 'Seasons' 열의 결측치를 각 월에 해당하는 계절로 대체하는 함수\n",
    "def get_season(month):\n",
    "    if month in [3, 4, 5]:\n",
    "        return 'Spring'\n",
    "    elif month in [6, 7, 8]:\n",
    "        return 'Summer'\n",
    "    elif month in [9, 10, 11]:\n",
    "        return 'Autumn'\n",
    "    elif month in [12, 1, 2]:\n",
    "        return 'Winter'\n",
    "\n",
    "# 'Seasons' 열의 결측치를 월별로 채우기\n",
    "bike['Seasons'] = bike['Seasons'].fillna(bike['month'].apply(get_season))\n",
    "test['Seasons'] = test['Seasons'].fillna(test['month'].apply(get_season))"
   ]
  },
  {
   "cell_type": "markdown",
   "id": "15a71e38-5ba0-4695-a55f-6ce8f7713527",
   "metadata": {},
   "source": [
    "#### Humidity = 0"
   ]
  },
  {
   "cell_type": "code",
   "execution_count": 32,
   "id": "70e10759-621e-4bce-b111-68f4367a8298",
   "metadata": {},
   "outputs": [],
   "source": [
    "bike['Humidity'] = bike['Humidity'].interpolate(method='spline', order=3)\n",
    "test['Humidity'] = test['Humidity'].interpolate(method='spline', order=3)"
   ]
  },
  {
   "cell_type": "markdown",
   "id": "a74b8594-c52d-47fd-93e2-bb849d0ddf51",
   "metadata": {},
   "source": [
    "#### Temperature"
   ]
  },
  {
   "cell_type": "code",
   "execution_count": 33,
   "id": "fb9f32a5-0332-4037-bd77-3e57a2c654fe",
   "metadata": {},
   "outputs": [],
   "source": [
    "import math\n",
    "def calculate_temperature(dew_point_temp, humidity):\n",
    "    temperature = dew_point_temp + (100 - humidity)/5\n",
    "    return temperature\n",
    "    \n",
    "na_temp = bike['Temperature'].isnull()\n",
    "for i in range(len(bike)):\n",
    "    if na_temp[i]:\n",
    "        dew_point_temp = bike.loc[i, 'Dew point temperature']\n",
    "        humidity = bike.loc[i, 'Humidity']\n",
    "        calculated_temp = calculate_temperature(dew_point_temp, humidity)\n",
    "        if (calculated_temp >= -30.0):  # -30도보다 낮으면 비정상으로 간주\n",
    "            bike.loc[i, 'Temperature'] = calculated_temp\n",
    "        else:\n",
    "            bike['Temperature'] = bike['Temperature'].interpolate(method='spline', order=3)\n",
    "\n",
    "na_temp = test['Temperature'].isnull()\n",
    "for i in range(len(test)):\n",
    "    if na_temp[i]:\n",
    "        dew_point_temp = test.loc[i, 'Dew point temperature']\n",
    "        humidity = test.loc[i, 'Humidity']\n",
    "        calculated_temp = calculate_temperature(dew_point_temp, humidity)\n",
    "        if (calculated_temp >= -30.0):  # -30도보다 낮으면 비정상으로 간주\n",
    "            test.loc[i, 'Temperature'] = calculated_temp\n",
    "        else:\n",
    "            test['Temperature'] = test['Temperature'].interpolate(method='spline', order=3)"
   ]
  },
  {
   "cell_type": "markdown",
   "id": "17be9c36-685a-45c8-8ce1-83703043f154",
   "metadata": {},
   "source": [
    "#### Wind speed"
   ]
  },
  {
   "cell_type": "code",
   "execution_count": 34,
   "id": "7b8f1b42-8113-4de0-8e42-d200cbd68345",
   "metadata": {},
   "outputs": [],
   "source": [
    "bike['Wind speed'] = bike['Wind speed'].interpolate(method='spline', order=3)\n",
    "test['Wind speed'] = test['Wind speed'].interpolate(method='spline', order=3)"
   ]
  },
  {
   "cell_type": "markdown",
   "id": "9aae1cdf-290e-45e7-a1f0-98ae2f98cc46",
   "metadata": {},
   "source": [
    "## 3. 데이터 2차 전처리"
   ]
  },
  {
   "cell_type": "markdown",
   "id": "2d28b1f1-17e4-4fa1-8d0e-163fe9a8bdf0",
   "metadata": {},
   "source": [
    "### 3.1 명목형 변수 원핫인코딩\n",
    "명목형 변수 : Seasons, Holiday, Functioning Day, week, month, day, Hour, Rainfall_Binary, Snowfall_Binary"
   ]
  },
  {
   "cell_type": "code",
   "execution_count": 35,
   "id": "e529a9a9-4bd8-4bdc-afd2-6ed5ef65903d",
   "metadata": {},
   "outputs": [],
   "source": [
    "ohe = OneHotEncoder(sparse_output=False)\n",
    "result_ohe_bike = ohe.fit_transform(bike[['Seasons', 'Holiday', 'Functioning Day', 'week',\n",
    "                                          'month', 'day', 'Hour', 'Rainfall_Binary', 'Snowfall_Binary']])\n",
    "df_ohe_bike = pd.DataFrame(result_ohe_bike, columns=ohe.get_feature_names_out(['Seasons', 'Holiday', 'Functioning Day',\n",
    "                                                                                'week', 'month', \n",
    "                                                                               'day', 'Hour', 'Rainfall_Binary', \n",
    "                                                                               'Snowfall_Binary']))\n",
    "\n",
    "ohe = OneHotEncoder(sparse_output=False)\n",
    "result_ohe_test = ohe.fit_transform(test[['Seasons', 'Holiday', 'Functioning Day', 'week',\n",
    "                                          'month', 'day', 'Hour', 'Rainfall_Binary', 'Snowfall_Binary']])\n",
    "df_ohe_test = pd.DataFrame(result_ohe_test, columns=ohe.get_feature_names_out(['Seasons', 'Holiday', 'Functioning Day',\n",
    "                                                                                'week', 'month', \n",
    "                                                                               'day', 'Hour', 'Rainfall_Binary', \n",
    "                                                                               'Snowfall_Binary']))\n",
    "\n",
    "bike_v1 = pd.concat([bike, df_ohe_bike], axis=1)\n",
    "test_v1 = pd.concat([test, df_ohe_test], axis=1)"
   ]
  },
  {
   "cell_type": "markdown",
   "id": "838fb94f-7769-4977-baf3-886fdb67613b",
   "metadata": {},
   "source": [
    "### 3.2 최종 변수"
   ]
  },
  {
   "cell_type": "code",
   "execution_count": 36,
   "id": "dcef7c2a-af4c-4003-8668-e8e0ea986bc3",
   "metadata": {},
   "outputs": [],
   "source": [
    "bike = bike_v1.drop(['Date', 'datetime', 'Seasons', 'Holiday', 'Functioning Day', 'Seasons_Spring', 'week', 'week_Thursday',\n",
    "                     'year', 'month', 'day', 'Hour', 'Rainfall_Binary','Snowfall_Binary', 'month_7', 'day_31',\n",
    "                    'Hour_23'], axis=1)\n",
    "test = test_v1.drop(['Date', 'datetime', 'Seasons', 'Holiday', 'Functioning Day', 'Seasons_Spring', 'week', 'week_Thursday',\n",
    "                     'year', 'month', 'day', 'Hour', 'Rainfall_Binary','Snowfall_Binary', 'month_7', 'day_31',\n",
    "                    'Hour_23'], axis=1)"
   ]
  },
  {
   "cell_type": "code",
   "execution_count": 37,
   "id": "a3fd3e36-04fd-479c-bc9b-72201f0787b2",
   "metadata": {
    "scrolled": true
   },
   "outputs": [
    {
     "name": "stdout",
     "output_type": "stream",
     "text": [
      "<class 'pandas.core.frame.DataFrame'>\n",
      "RangeIndex: 7008 entries, 0 to 7007\n",
      "Data columns (total 90 columns):\n",
      " #   Column                 Non-Null Count  Dtype  \n",
      "---  ------                 --------------  -----  \n",
      " 0   Rented Bike Count      7008 non-null   int64  \n",
      " 1   Temperature            7008 non-null   float64\n",
      " 2   Humidity               7008 non-null   int64  \n",
      " 3   Wind speed             7008 non-null   float64\n",
      " 4   Visibility             7008 non-null   int64  \n",
      " 5   Dew point temperature  7008 non-null   float64\n",
      " 6   Solar Radiation        7008 non-null   float64\n",
      " 7   Rainfall               7008 non-null   float64\n",
      " 8   Snowfall               7008 non-null   float64\n",
      " 9   Seasons_Autumn         7008 non-null   float64\n",
      " 10  Seasons_Summer         7008 non-null   float64\n",
      " 11  Seasons_Winter         7008 non-null   float64\n",
      " 12  Holiday_Holiday        7008 non-null   float64\n",
      " 13  Holiday_No Holiday     7008 non-null   float64\n",
      " 14  Functioning Day_No     7008 non-null   float64\n",
      " 15  Functioning Day_Yes    7008 non-null   float64\n",
      " 16  week_Friday            7008 non-null   float64\n",
      " 17  week_Monday            7008 non-null   float64\n",
      " 18  week_Saturday          7008 non-null   float64\n",
      " 19  week_Sunday            7008 non-null   float64\n",
      " 20  week_Tuesday           7008 non-null   float64\n",
      " 21  week_Wednesday         7008 non-null   float64\n",
      " 22  month_1                7008 non-null   float64\n",
      " 23  month_2                7008 non-null   float64\n",
      " 24  month_3                7008 non-null   float64\n",
      " 25  month_4                7008 non-null   float64\n",
      " 26  month_5                7008 non-null   float64\n",
      " 27  month_6                7008 non-null   float64\n",
      " 28  month_8                7008 non-null   float64\n",
      " 29  month_9                7008 non-null   float64\n",
      " 30  month_10               7008 non-null   float64\n",
      " 31  month_11               7008 non-null   float64\n",
      " 32  month_12               7008 non-null   float64\n",
      " 33  day_1                  7008 non-null   float64\n",
      " 34  day_2                  7008 non-null   float64\n",
      " 35  day_3                  7008 non-null   float64\n",
      " 36  day_4                  7008 non-null   float64\n",
      " 37  day_5                  7008 non-null   float64\n",
      " 38  day_6                  7008 non-null   float64\n",
      " 39  day_7                  7008 non-null   float64\n",
      " 40  day_8                  7008 non-null   float64\n",
      " 41  day_9                  7008 non-null   float64\n",
      " 42  day_10                 7008 non-null   float64\n",
      " 43  day_11                 7008 non-null   float64\n",
      " 44  day_12                 7008 non-null   float64\n",
      " 45  day_13                 7008 non-null   float64\n",
      " 46  day_14                 7008 non-null   float64\n",
      " 47  day_15                 7008 non-null   float64\n",
      " 48  day_16                 7008 non-null   float64\n",
      " 49  day_17                 7008 non-null   float64\n",
      " 50  day_18                 7008 non-null   float64\n",
      " 51  day_19                 7008 non-null   float64\n",
      " 52  day_20                 7008 non-null   float64\n",
      " 53  day_21                 7008 non-null   float64\n",
      " 54  day_22                 7008 non-null   float64\n",
      " 55  day_23                 7008 non-null   float64\n",
      " 56  day_24                 7008 non-null   float64\n",
      " 57  day_25                 7008 non-null   float64\n",
      " 58  day_26                 7008 non-null   float64\n",
      " 59  day_27                 7008 non-null   float64\n",
      " 60  day_28                 7008 non-null   float64\n",
      " 61  day_29                 7008 non-null   float64\n",
      " 62  day_30                 7008 non-null   float64\n",
      " 63  Hour_0                 7008 non-null   float64\n",
      " 64  Hour_1                 7008 non-null   float64\n",
      " 65  Hour_2                 7008 non-null   float64\n",
      " 66  Hour_3                 7008 non-null   float64\n",
      " 67  Hour_4                 7008 non-null   float64\n",
      " 68  Hour_5                 7008 non-null   float64\n",
      " 69  Hour_6                 7008 non-null   float64\n",
      " 70  Hour_7                 7008 non-null   float64\n",
      " 71  Hour_8                 7008 non-null   float64\n",
      " 72  Hour_9                 7008 non-null   float64\n",
      " 73  Hour_10                7008 non-null   float64\n",
      " 74  Hour_11                7008 non-null   float64\n",
      " 75  Hour_12                7008 non-null   float64\n",
      " 76  Hour_13                7008 non-null   float64\n",
      " 77  Hour_14                7008 non-null   float64\n",
      " 78  Hour_15                7008 non-null   float64\n",
      " 79  Hour_16                7008 non-null   float64\n",
      " 80  Hour_17                7008 non-null   float64\n",
      " 81  Hour_18                7008 non-null   float64\n",
      " 82  Hour_19                7008 non-null   float64\n",
      " 83  Hour_20                7008 non-null   float64\n",
      " 84  Hour_21                7008 non-null   float64\n",
      " 85  Hour_22                7008 non-null   float64\n",
      " 86  Rainfall_Binary_0      7008 non-null   float64\n",
      " 87  Rainfall_Binary_1      7008 non-null   float64\n",
      " 88  Snowfall_Binary_0      7008 non-null   float64\n",
      " 89  Snowfall_Binary_1      7008 non-null   float64\n",
      "dtypes: float64(87), int64(3)\n",
      "memory usage: 4.8 MB\n"
     ]
    }
   ],
   "source": [
    "bike.info()"
   ]
  },
  {
   "cell_type": "code",
   "execution_count": 38,
   "id": "faf2711d-a022-4868-ad88-c93944fad44b",
   "metadata": {
    "scrolled": true
   },
   "outputs": [
    {
     "name": "stdout",
     "output_type": "stream",
     "text": [
      "<class 'pandas.core.frame.DataFrame'>\n",
      "RangeIndex: 1752 entries, 0 to 1751\n",
      "Data columns (total 89 columns):\n",
      " #   Column                 Non-Null Count  Dtype  \n",
      "---  ------                 --------------  -----  \n",
      " 0   Temperature            1752 non-null   float64\n",
      " 1   Humidity               1752 non-null   int64  \n",
      " 2   Wind speed             1752 non-null   float64\n",
      " 3   Visibility             1752 non-null   int64  \n",
      " 4   Dew point temperature  1752 non-null   float64\n",
      " 5   Solar Radiation        1752 non-null   float64\n",
      " 6   Rainfall               1752 non-null   float64\n",
      " 7   Snowfall               1752 non-null   float64\n",
      " 8   Seasons_Autumn         1752 non-null   float64\n",
      " 9   Seasons_Summer         1752 non-null   float64\n",
      " 10  Seasons_Winter         1752 non-null   float64\n",
      " 11  Holiday_Holiday        1752 non-null   float64\n",
      " 12  Holiday_No Holiday     1752 non-null   float64\n",
      " 13  Functioning Day_No     1752 non-null   float64\n",
      " 14  Functioning Day_Yes    1752 non-null   float64\n",
      " 15  week_Friday            1752 non-null   float64\n",
      " 16  week_Monday            1752 non-null   float64\n",
      " 17  week_Saturday          1752 non-null   float64\n",
      " 18  week_Sunday            1752 non-null   float64\n",
      " 19  week_Tuesday           1752 non-null   float64\n",
      " 20  week_Wednesday         1752 non-null   float64\n",
      " 21  month_1                1752 non-null   float64\n",
      " 22  month_2                1752 non-null   float64\n",
      " 23  month_3                1752 non-null   float64\n",
      " 24  month_4                1752 non-null   float64\n",
      " 25  month_5                1752 non-null   float64\n",
      " 26  month_6                1752 non-null   float64\n",
      " 27  month_8                1752 non-null   float64\n",
      " 28  month_9                1752 non-null   float64\n",
      " 29  month_10               1752 non-null   float64\n",
      " 30  month_11               1752 non-null   float64\n",
      " 31  month_12               1752 non-null   float64\n",
      " 32  day_1                  1752 non-null   float64\n",
      " 33  day_2                  1752 non-null   float64\n",
      " 34  day_3                  1752 non-null   float64\n",
      " 35  day_4                  1752 non-null   float64\n",
      " 36  day_5                  1752 non-null   float64\n",
      " 37  day_6                  1752 non-null   float64\n",
      " 38  day_7                  1752 non-null   float64\n",
      " 39  day_8                  1752 non-null   float64\n",
      " 40  day_9                  1752 non-null   float64\n",
      " 41  day_10                 1752 non-null   float64\n",
      " 42  day_11                 1752 non-null   float64\n",
      " 43  day_12                 1752 non-null   float64\n",
      " 44  day_13                 1752 non-null   float64\n",
      " 45  day_14                 1752 non-null   float64\n",
      " 46  day_15                 1752 non-null   float64\n",
      " 47  day_16                 1752 non-null   float64\n",
      " 48  day_17                 1752 non-null   float64\n",
      " 49  day_18                 1752 non-null   float64\n",
      " 50  day_19                 1752 non-null   float64\n",
      " 51  day_20                 1752 non-null   float64\n",
      " 52  day_21                 1752 non-null   float64\n",
      " 53  day_22                 1752 non-null   float64\n",
      " 54  day_23                 1752 non-null   float64\n",
      " 55  day_24                 1752 non-null   float64\n",
      " 56  day_25                 1752 non-null   float64\n",
      " 57  day_26                 1752 non-null   float64\n",
      " 58  day_27                 1752 non-null   float64\n",
      " 59  day_28                 1752 non-null   float64\n",
      " 60  day_29                 1752 non-null   float64\n",
      " 61  day_30                 1752 non-null   float64\n",
      " 62  Hour_0                 1752 non-null   float64\n",
      " 63  Hour_1                 1752 non-null   float64\n",
      " 64  Hour_2                 1752 non-null   float64\n",
      " 65  Hour_3                 1752 non-null   float64\n",
      " 66  Hour_4                 1752 non-null   float64\n",
      " 67  Hour_5                 1752 non-null   float64\n",
      " 68  Hour_6                 1752 non-null   float64\n",
      " 69  Hour_7                 1752 non-null   float64\n",
      " 70  Hour_8                 1752 non-null   float64\n",
      " 71  Hour_9                 1752 non-null   float64\n",
      " 72  Hour_10                1752 non-null   float64\n",
      " 73  Hour_11                1752 non-null   float64\n",
      " 74  Hour_12                1752 non-null   float64\n",
      " 75  Hour_13                1752 non-null   float64\n",
      " 76  Hour_14                1752 non-null   float64\n",
      " 77  Hour_15                1752 non-null   float64\n",
      " 78  Hour_16                1752 non-null   float64\n",
      " 79  Hour_17                1752 non-null   float64\n",
      " 80  Hour_18                1752 non-null   float64\n",
      " 81  Hour_19                1752 non-null   float64\n",
      " 82  Hour_20                1752 non-null   float64\n",
      " 83  Hour_21                1752 non-null   float64\n",
      " 84  Hour_22                1752 non-null   float64\n",
      " 85  Rainfall_Binary_0      1752 non-null   float64\n",
      " 86  Rainfall_Binary_1      1752 non-null   float64\n",
      " 87  Snowfall_Binary_0      1752 non-null   float64\n",
      " 88  Snowfall_Binary_1      1752 non-null   float64\n",
      "dtypes: float64(87), int64(2)\n",
      "memory usage: 1.2 MB\n"
     ]
    }
   ],
   "source": [
    "test.info()"
   ]
  },
  {
   "cell_type": "markdown",
   "id": "1a5fe233-1ded-43e7-a6c9-5fbb82e9cda5",
   "metadata": {},
   "source": [
    "### 3.3 Train/Valid 셋 분리"
   ]
  },
  {
   "cell_type": "code",
   "execution_count": 39,
   "id": "ec59c874-be4a-4f95-b69f-932e0ef2ccb0",
   "metadata": {},
   "outputs": [],
   "source": [
    "X = bike.drop(\"Rented Bike Count\", axis=1).copy()\n",
    "y = bike[\"Rented Bike Count\"].copy()"
   ]
  },
  {
   "cell_type": "code",
   "execution_count": 40,
   "id": "98b294e2-73c8-4dab-bea4-4d88b6840d26",
   "metadata": {},
   "outputs": [
    {
     "data": {
      "text/plain": [
       "<Axes: >"
      ]
     },
     "execution_count": 40,
     "metadata": {},
     "output_type": "execute_result"
    },
    {
     "data": {
      "image/png": "[encoded data removed]",
      "text/plain": [
       "<Figure size 640x480 with 1 Axes>"
      ]
     },
     "metadata": {
      "image/png": {
       "height": 413,
       "width": 561
      }
     },
     "output_type": "display_data"
    }
   ],
   "source": [
    "y.hist()"
   ]
  },
  {
   "cell_type": "markdown",
   "id": "3f4ec29b-d873-496e-8c40-9a8003b20913",
   "metadata": {},
   "source": [
    "- 왼쪽으로 왜곡되어 있음 -> 정규성을 띌 수 있게 로그 변환을 해준다."
   ]
  },
  {
   "cell_type": "code",
   "execution_count": 41,
   "id": "47a415ac-8356-4105-97b9-8abf311972f8",
   "metadata": {},
   "outputs": [],
   "source": [
    "y_log = np.log1p(y)"
   ]
  },
  {
   "cell_type": "code",
   "execution_count": 42,
   "id": "ef7c87f9-7d0c-4769-ab8f-815a699ef383",
   "metadata": {},
   "outputs": [
    {
     "data": {
      "text/plain": [
       "<Axes: >"
      ]
     },
     "execution_count": 42,
     "metadata": {},
     "output_type": "execute_result"
    },
    {
     "data": {
      "image/png": "[encoded data removed]",
      "text/plain": [
       "<Figure size 640x480 with 1 Axes>"
      ]
     },
     "metadata": {
      "image/png": {
       "height": 413,
       "width": 561
      }
     },
     "output_type": "display_data"
    }
   ],
   "source": [
    "y_log.hist()"
   ]
  },
  {
   "cell_type": "markdown",
   "id": "f6967112-c297-4a5e-8174-3c518480fb0e",
   "metadata": {},
   "source": [
    "- 우측으로 치우쳐져 있긴 하지만, 원래 데이터보다는 정규성을 띄고 있음."
   ]
  },
  {
   "cell_type": "code",
   "execution_count": 43,
   "id": "b246c469-ba14-49f0-8a32-67af46f7ef68",
   "metadata": {},
   "outputs": [],
   "source": [
    "X_train, X_val, y_train, y_val = train_test_split(X, y_log, train_size=0.8, test_size=0.2, random_state=100)"
   ]
  },
  {
   "cell_type": "code",
   "execution_count": 44,
   "id": "07e3028b-746f-4bf2-8093-5cf9fefb3e5b",
   "metadata": {},
   "outputs": [],
   "source": [
    "X_test = test.copy()"
   ]
  },
  {
   "cell_type": "markdown",
   "id": "475569c8-84a8-43ca-b218-9d83d6d59057",
   "metadata": {},
   "source": [
    "### 3.4 변수 스케일링"
   ]
  },
  {
   "cell_type": "code",
   "execution_count": 45,
   "id": "e9539d02-b878-4269-9193-1bc23c435072",
   "metadata": {},
   "outputs": [],
   "source": [
    "ss = StandardScaler()\n",
    "X_train = ss.fit_transform(X_train)\n",
    "X_val = ss.transform(X_val)\n",
    "X_test = ss.transform(X_test)"
   ]
  },
  {
   "cell_type": "markdown",
   "id": "e1d20370-bcd4-4785-801a-3334bd185b4c",
   "metadata": {},
   "source": [
    "## 4. 모델 학습"
   ]
  },
  {
   "cell_type": "markdown",
   "id": "a3277f1f-92eb-4c2f-a2ea-ab155b30264f",
   "metadata": {},
   "source": [
    "### 4.1 LinearRegression"
   ]
  },
  {
   "cell_type": "markdown",
   "id": "31a16eb6-4feb-4388-bd74-3e5bfc0e966c",
   "metadata": {},
   "source": [
    "- 데이터의 선형 관계를 기반으로 예측을 수행하는 모델로써, 독립 변수와 종속 변수 사이의 선형 관계를 설명.\n",
    "- 주어진 데이터와 예측 데이터의 오차 평균을 최소화할 수 있는 최적의 기울기와 절편을 찾는 것을 목적으로 함.\n",
    "- \"정규 방정식\", \"경사하강법\"\n",
    "- 모델의 성능은 주로 MSE를 통해 평가됨."
   ]
  },
  {
   "cell_type": "markdown",
   "id": "4d7038df-a719-41de-b909-40b687190edb",
   "metadata": {},
   "source": [
    "#### (1) 모델 선언"
   ]
  },
  {
   "cell_type": "code",
   "execution_count": 46,
   "id": "766ac42f-d60d-4900-b037-5da107181973",
   "metadata": {},
   "outputs": [],
   "source": [
    "lr_reg = LinearRegression()"
   ]
  },
  {
   "cell_type": "markdown",
   "id": "eed920b7-8af3-4cd3-90b4-606f66498a90",
   "metadata": {},
   "source": [
    "#### (2) 하이퍼 파라미터 확인"
   ]
  },
  {
   "cell_type": "code",
   "execution_count": 47,
   "id": "0b152eaf-651c-4781-aada-d593dc30c7e5",
   "metadata": {},
   "outputs": [
    {
     "name": "stdout",
     "output_type": "stream",
     "text": [
      "{'copy_X': True, 'fit_intercept': True, 'n_jobs': None, 'positive': False}\n"
     ]
    }
   ],
   "source": [
    "print(lr_reg.get_params())"
   ]
  },
  {
   "cell_type": "markdown",
   "id": "0b806226-9e8e-4e6c-9b87-b368a3b5d6cd",
   "metadata": {},
   "source": [
    "#### (3) 모델 학습/평가"
   ]
  },
  {
   "cell_type": "code",
   "execution_count": 48,
   "id": "78a4234e-d75c-4b07-bf89-fee20ac55d57",
   "metadata": {},
   "outputs": [],
   "source": [
    "lr_reg.fit(X_train, y_train)\n",
    "pred_lr = lr_reg.predict(X_val)"
   ]
  },
  {
   "cell_type": "code",
   "execution_count": 49,
   "id": "afbf609d-9b78-429c-b557-b28ae6d12622",
   "metadata": {},
   "outputs": [
    {
     "name": "stdout",
     "output_type": "stream",
     "text": [
      "0.8891146246532542\n",
      "0.8926698234599169\n",
      "R2: 0.779242\n",
      "MSE: 95890.473614\n",
      "RMSE: 309.661870\n",
      "MAE: 198.767021\n",
      "#####################################\n",
      "              오차확인               \n",
      "      real_count  pred_count    diff\n",
      "1078      1141.0      2719.0  1578.0\n",
      "5         1934.0      3492.0  1558.0\n",
      "747        959.0      2204.0  1245.0\n",
      "348       2272.0      1060.0  1212.0\n",
      "774       2108.0       916.0  1192.0\n",
      "1261       475.0      1628.0  1153.0\n",
      "73        2019.0       904.0  1115.0\n",
      "754       1798.0       708.0  1090.0\n",
      "801       2214.0      1129.0  1085.0\n",
      "688       1899.0       820.0  1079.0\n"
     ]
    }
   ],
   "source": [
    "from sklearn.metrics import mean_absolute_error, mean_squared_error\n",
    "\n",
    "def get_model_predict(model, X_train, X_val, y_train, y_val, pred):\n",
    "    print(model.score(X_train, y_train))\n",
    "    print(model.score(X_val, y_val))\n",
    "\n",
    "    # Log 변환되었으므로 다시 expm1를 이용하여 원래 scale로 변환\n",
    "    y_val = np.expm1(y_val)\n",
    "    pred = np.expm1(pred)\n",
    "\n",
    "    r2 = r2_score(y_val, pred)\n",
    "    mae = mean_absolute_error(y_val, pred)\n",
    "    mse = mean_squared_error(y_val, pred)\n",
    "    rmse = np.sqrt(mean_squared_error(y_val, pred))\n",
    "    print(\"R2: %f\" % (r2))\n",
    "    print(\"MSE: %f\" % (mse))\n",
    "    print(\"RMSE: %f\" % (rmse))\n",
    "    print(\"MAE: %f\" % (mae))\n",
    "    print('#####################################')\n",
    "    print(f'              오차확인               ')\n",
    "    result_df = pd.DataFrame(y_val.values, columns=['real_count'])\n",
    "    result_df['pred_count']= np.round(pred)\n",
    "    result_df['diff'] = np.abs(result_df['real_count'] - result_df['pred_count'])\n",
    "    # 예측값과 실제값이 가장 큰 데이터 순으로 출력. \n",
    "    print(result_df.sort_values('diff', ascending=False)[:10])\n",
    "\n",
    "get_model_predict(lr_reg, X_train, X_val, y_train, y_val, pred_lr)"
   ]
  },
  {
   "cell_type": "markdown",
   "id": "9d12c868-3462-4e25-8d89-b7b86608e907",
   "metadata": {},
   "source": [
    "MSE 값이 매우 큰 것을 확인. 선형회귀 모델에서는 MSE값으로 성능 확인을 하므로 해당 모델은 좋지 않은 것으로 판단."
   ]
  },
  {
   "cell_type": "markdown",
   "id": "ef1943b6-f28e-4291-ba21-82f6209e656b",
   "metadata": {},
   "source": [
    "### 4.2 RandomForestRegression\n",
    "- 일반화 및 성능이 우수\n",
    "- 파라미터 조정이 쉬움\n",
    "- 과적합이 잘 되지 않음\n",
    "- 훈련 시 메모리 소모가 큼\n",
    "- 개별 트리 분석이 어렵고 트리 분리가 복잡해지는 경향 존재"
   ]
  },
  {
   "cell_type": "code",
   "execution_count": 50,
   "id": "141f1b95-f1e5-4593-a233-b57bb63f21f5",
   "metadata": {},
   "outputs": [],
   "source": [
    "# 아래의 모델들은 변수 스케일링이 필요하지 않은 모델이므로 스케일링하지 않고 진행한다.\n",
    "X_train, X_val, y_train, y_val = train_test_split(X, y_log, train_size=0.8, test_size=0.2, random_state=100)"
   ]
  },
  {
   "cell_type": "markdown",
   "id": "9328f020-6bd7-41d1-992e-e848f37bf6a4",
   "metadata": {},
   "source": [
    "#### (1) 모델 선언"
   ]
  },
  {
   "cell_type": "code",
   "execution_count": 51,
   "id": "bfbfadc4-ba9f-4ef3-86e6-b4afd33b6244",
   "metadata": {},
   "outputs": [],
   "source": [
    "rf_reg = RandomForestRegressor()"
   ]
  },
  {
   "cell_type": "markdown",
   "id": "2a5cf404-ecf0-4b89-8e67-448c96bdf9c3",
   "metadata": {},
   "source": [
    "#### (2) 하이퍼 파라미터 확인"
   ]
  },
  {
   "cell_type": "code",
   "execution_count": 52,
   "id": "00104c36-b666-4488-89db-150817b1beab",
   "metadata": {},
   "outputs": [
    {
     "name": "stdout",
     "output_type": "stream",
     "text": [
      "{'bootstrap': True, 'ccp_alpha': 0.0, 'criterion': 'squared_error', 'max_depth': None, 'max_features': 1.0, 'max_leaf_nodes': None, 'max_samples': None, 'min_impurity_decrease': 0.0, 'min_samples_leaf': 1, 'min_samples_split': 2, 'min_weight_fraction_leaf': 0.0, 'n_estimators': 100, 'n_jobs': None, 'oob_score': False, 'random_state': None, 'verbose': 0, 'warm_start': False}\n"
     ]
    }
   ],
   "source": [
    "print(rf_reg.get_params())"
   ]
  },
  {
   "cell_type": "markdown",
   "id": "1a8a56b5-4e5b-4d33-b704-f8fe0e5017a7",
   "metadata": {},
   "source": [
    "#### (3) 모델 학습/평가"
   ]
  },
  {
   "cell_type": "code",
   "execution_count": 53,
   "id": "51486560-c86c-4dff-8b32-596876d31f8d",
   "metadata": {},
   "outputs": [],
   "source": [
    "rf_reg.fit(X_train, y_train)\n",
    "pred = rf_reg.predict(X_val)"
   ]
  },
  {
   "cell_type": "code",
   "execution_count": 54,
   "id": "bc632636-08b3-40a6-930c-f0c624ebfc3a",
   "metadata": {},
   "outputs": [
    {
     "name": "stdout",
     "output_type": "stream",
     "text": [
      "0.9916715738516381\n",
      "0.950953003056495\n",
      "R2: 0.923149\n",
      "MSE: 33381.818368\n",
      "RMSE: 182.706919\n",
      "MAE: 108.901728\n",
      "#####################################\n",
      "              오차확인               \n",
      "      real_count  pred_count    diff\n",
      "747        959.0      2149.0  1190.0\n",
      "1020      1557.0      2641.0  1084.0\n",
      "482        578.0      1496.0   918.0\n",
      "637       1933.0      1025.0   908.0\n",
      "729       1289.0       445.0   844.0\n",
      "902       1548.0       723.0   825.0\n",
      "340       1491.0      2310.0   819.0\n",
      "765       2378.0      1564.0   814.0\n",
      "751       1956.0      1169.0   787.0\n",
      "158       2254.0      1500.0   754.0\n"
     ]
    }
   ],
   "source": [
    "get_model_predict(rf_reg, X_train, X_val, y_train, y_val, pred)"
   ]
  },
  {
   "cell_type": "markdown",
   "id": "6dc535f2-a5e0-44ed-bd3a-cb0d3d313abd",
   "metadata": {},
   "source": [
    "#### (4) 하이퍼 파라미터 튜닝\n",
    "- n_estimator : 생성할 트리의 개수\n",
    "- max_features : 노드를 분할할 때 고려할 특성의 무작위 하위 집합의 크기\n",
    "- max_depth : 트리의 최대 깊이\n",
    "- min_samples_split : 노드를 분할하기 위해 필요한 최소한의 샘플 개수\n",
    "- min_samples_leaf : 노드를 분할하기 위해 leaf 노드가 가져야할 최소한의 샘플\n",
    "- max_leaf_nodes : 생성될 수 있는 최대 리프 노드의 개수를 제한\n",
    "- random_state : 랜덤 시드 지정"
   ]
  },
  {
   "cell_type": "code",
   "execution_count": 55,
   "id": "ebdca35a-f98f-416c-ab90-fa5a799e3e08",
   "metadata": {},
   "outputs": [],
   "source": [
    "params_grid_rf = {\n",
    "    'n_estimators' : [200, 300, 500],\n",
    "    'max_features' : ['sqrt','log2'],\n",
    "    'max_depth' : [3, 5, 7],\n",
    "    'min_samples_split' : [2, 5, 10]\n",
    "}"
   ]
  },
  {
   "cell_type": "code",
   "execution_count": 57,
   "id": "f0890502-d287-43d2-8433-eab8d4678461",
   "metadata": {},
   "outputs": [
    {
     "data": {
      "text/html": [
       "<style>#sk-container-id-1 {color: black;background-color: white;}#sk-container-id-1 pre{padding: 0;}#sk-container-id-1 div.sk-toggleable {background-color: white;}#sk-container-id-1 label.sk-toggleable__label {cursor: pointer;display: block;width: 100%;margin-bottom: 0;padding: 0.3em;box-sizing: border-box;text-align: center;}#sk-container-id-1 label.sk-toggleable__label-arrow:before {content: \"▸\";float: left;margin-right: 0.25em;color: #696969;}#sk-container-id-1 label.sk-toggleable__label-arrow:hover:before {color: black;}#sk-container-id-1 div.sk-estimator:hover label.sk-toggleable__label-arrow:before {color: black;}#sk-container-id-1 div.sk-toggleable__content {max-height: 0;max-width: 0;overflow: hidden;text-align: left;background-color: #f0f8ff;}#sk-container-id-1 div.sk-toggleable__content pre {margin: 0.2em;color: black;border-radius: 0.25em;background-color: #f0f8ff;}#sk-container-id-1 input.sk-toggleable__control:checked~div.sk-toggleable__content {max-height: 200px;max-width: 100%;overflow: auto;}#sk-container-id-1 input.sk-toggleable__control:checked~label.sk-toggleable__label-arrow:before {content: \"▾\";}#sk-container-id-1 div.sk-estimator input.sk-toggleable__control:checked~label.sk-toggleable__label {background-color: #d4ebff;}#sk-container-id-1 div.sk-label input.sk-toggleable__control:checked~label.sk-toggleable__label {background-color: #d4ebff;}#sk-container-id-1 input.sk-hidden--visually {border: 0;clip: rect(1px 1px 1px 1px);clip: rect(1px, 1px, 1px, 1px);height: 1px;margin: -1px;overflow: hidden;padding: 0;position: absolute;width: 1px;}#sk-container-id-1 div.sk-estimator {font-family: monospace;background-color: #f0f8ff;border: 1px dotted black;border-radius: 0.25em;box-sizing: border-box;margin-bottom: 0.5em;}#sk-container-id-1 div.sk-estimator:hover {background-color: #d4ebff;}#sk-container-id-1 div.sk-parallel-item::after {content: \"\";width: 100%;border-bottom: 1px solid gray;flex-grow: 1;}#sk-container-id-1 div.sk-label:hover label.sk-toggleable__label {background-color: #d4ebff;}#sk-container-id-1 div.sk-serial::before {content: \"\";position: absolute;border-left: 1px solid gray;box-sizing: border-box;top: 0;bottom: 0;left: 50%;z-index: 0;}#sk-container-id-1 div.sk-serial {display: flex;flex-direction: column;align-items: center;background-color: white;padding-right: 0.2em;padding-left: 0.2em;position: relative;}#sk-container-id-1 div.sk-item {position: relative;z-index: 1;}#sk-container-id-1 div.sk-parallel {display: flex;align-items: stretch;justify-content: center;background-color: white;position: relative;}#sk-container-id-1 div.sk-item::before, #sk-container-id-1 div.sk-parallel-item::before {content: \"\";position: absolute;border-left: 1px solid gray;box-sizing: border-box;top: 0;bottom: 0;left: 50%;z-index: -1;}#sk-container-id-1 div.sk-parallel-item {display: flex;flex-direction: column;z-index: 1;position: relative;background-color: white;}#sk-container-id-1 div.sk-parallel-item:first-child::after {align-self: flex-end;width: 50%;}#sk-container-id-1 div.sk-parallel-item:last-child::after {align-self: flex-start;width: 50%;}#sk-container-id-1 div.sk-parallel-item:only-child::after {width: 0;}#sk-container-id-1 div.sk-dashed-wrapped {border: 1px dashed gray;margin: 0 0.4em 0.5em 0.4em;box-sizing: border-box;padding-bottom: 0.4em;background-color: white;}#sk-container-id-1 div.sk-label label {font-family: monospace;font-weight: bold;display: inline-block;line-height: 1.2em;}#sk-container-id-1 div.sk-label-container {text-align: center;}#sk-container-id-1 div.sk-container {/* jupyter's `normalize.less` sets `[hidden] { display: none; }` but bootstrap.min.css set `[hidden] { display: none !important; }` so we also need the `!important` here to be able to override the default hidden behavior on the sphinx rendered scikit-learn.org. See: https://github.com/scikit-learn/scikit-learn/issues/21755 */display: inline-block !important;position: relative;}#sk-container-id-1 div.sk-text-repr-fallback {display: none;}</style><div id=\"sk-container-id-1\" class=\"sk-top-container\"><div class=\"sk-text-repr-fallback\"><pre>GridSearchCV(cv=3, estimator=RandomForestRegressor(),\n",
       "             param_grid={&#x27;max_depth&#x27;: [3, 5, 7],\n",
       "                         &#x27;max_features&#x27;: [&#x27;sqrt&#x27;, &#x27;log2&#x27;],\n",
       "                         &#x27;min_samples_split&#x27;: [2, 5, 10],\n",
       "                         &#x27;n_estimators&#x27;: [200, 300, 500]})</pre><b>In a Jupyter environment, please rerun this cell to show the HTML representation or trust the notebook. <br />On GitHub, the HTML representation is unable to render, please try loading this page with nbviewer.org.</b></div><div class=\"sk-container\" hidden><div class=\"sk-item sk-dashed-wrapped\"><div class=\"sk-label-container\"><div class=\"sk-label sk-toggleable\"><input class=\"sk-toggleable__control sk-hidden--visually\" id=\"sk-estimator-id-1\" type=\"checkbox\" ><label for=\"sk-estimator-id-1\" class=\"sk-toggleable__label sk-toggleable__label-arrow\">GridSearchCV</label><div class=\"sk-toggleable__content\"><pre>GridSearchCV(cv=3, estimator=RandomForestRegressor(),\n",
       "             param_grid={&#x27;max_depth&#x27;: [3, 5, 7],\n",
       "                         &#x27;max_features&#x27;: [&#x27;sqrt&#x27;, &#x27;log2&#x27;],\n",
       "                         &#x27;min_samples_split&#x27;: [2, 5, 10],\n",
       "                         &#x27;n_estimators&#x27;: [200, 300, 500]})</pre></div></div></div><div class=\"sk-parallel\"><div class=\"sk-parallel-item\"><div class=\"sk-item\"><div class=\"sk-label-container\"><div class=\"sk-label sk-toggleable\"><input class=\"sk-toggleable__control sk-hidden--visually\" id=\"sk-estimator-id-2\" type=\"checkbox\" ><label for=\"sk-estimator-id-2\" class=\"sk-toggleable__label sk-toggleable__label-arrow\">estimator: RandomForestRegressor</label><div class=\"sk-toggleable__content\"><pre>RandomForestRegressor()</pre></div></div></div><div class=\"sk-serial\"><div class=\"sk-item\"><div class=\"sk-estimator sk-toggleable\"><input class=\"sk-toggleable__control sk-hidden--visually\" id=\"sk-estimator-id-3\" type=\"checkbox\" ><label for=\"sk-estimator-id-3\" class=\"sk-toggleable__label sk-toggleable__label-arrow\">RandomForestRegressor</label><div class=\"sk-toggleable__content\"><pre>RandomForestRegressor()</pre></div></div></div></div></div></div></div></div></div></div>"
      ],
      "text/plain": [
       "GridSearchCV(cv=3, estimator=RandomForestRegressor(),\n",
       "             param_grid={'max_depth': [3, 5, 7],\n",
       "                         'max_features': ['sqrt', 'log2'],\n",
       "                         'min_samples_split': [2, 5, 10],\n",
       "                         'n_estimators': [200, 300, 500]})"
      ]
     },
     "execution_count": 57,
     "metadata": {},
     "output_type": "execute_result"
    }
   ],
   "source": [
    "gs_rf = GridSearchCV(estimator=rf_reg,param_grid=params_grid_rf , cv = 3)\n",
    "gs_rf.fit(X_train, y_train)"
   ]
  },
  {
   "cell_type": "code",
   "execution_count": 58,
   "id": "f433a45b-a34d-45f2-a3b3-471a38d0b890",
   "metadata": {},
   "outputs": [
    {
     "data": {
      "text/plain": [
       "0.8047231483038436"
      ]
     },
     "execution_count": 58,
     "metadata": {},
     "output_type": "execute_result"
    }
   ],
   "source": [
    "gs_rf.best_score_"
   ]
  },
  {
   "cell_type": "code",
   "execution_count": 59,
   "id": "3c5d8daa-5f92-4ac1-a0d8-234ffb728996",
   "metadata": {},
   "outputs": [
    {
     "data": {
      "text/plain": [
       "{'max_depth': 7,\n",
       " 'max_features': 'sqrt',\n",
       " 'min_samples_split': 10,\n",
       " 'n_estimators': 300}"
      ]
     },
     "execution_count": 59,
     "metadata": {},
     "output_type": "execute_result"
    }
   ],
   "source": [
    "gs_rf.best_params_"
   ]
  },
  {
   "cell_type": "code",
   "execution_count": 60,
   "id": "8cf8c3f0-ca5f-41f1-9b36-c4a516005d38",
   "metadata": {},
   "outputs": [
    {
     "name": "stdout",
     "output_type": "stream",
     "text": [
      "0.8177543044854099\n",
      "0.8160415594325702\n",
      "R2: 0.423774\n",
      "MSE: 250294.917508\n",
      "RMSE: 500.294831\n",
      "MAE: 312.341351\n",
      "#####################################\n",
      "              오차확인               \n",
      "      real_count  pred_count    diff\n",
      "406       3256.0       982.0  2274.0\n",
      "892       3277.0      1014.0  2263.0\n",
      "523       3123.0       960.0  2163.0\n",
      "1237      3380.0      1289.0  2091.0\n",
      "848       3309.0      1301.0  2008.0\n",
      "1363      2716.0       766.0  1950.0\n",
      "457       2916.0       986.0  1930.0\n",
      "117       2965.0      1096.0  1869.0\n",
      "739       2826.0       965.0  1861.0\n",
      "21        2661.0       822.0  1839.0\n"
     ]
    }
   ],
   "source": [
    "rf_reg_tune = gs_rf.best_estimator_\n",
    "rf_reg_tune.fit(X_train, y_train)\n",
    "pred_rf_tune = rf_reg_tune.predict(X_val)\n",
    "get_model_predict(rf_reg_tune, X_train, X_val, y_train, y_val, pred_rf_tune)"
   ]
  },
  {
   "cell_type": "markdown",
   "id": "ea465a07-02bb-4216-9adf-b28328ec77a5",
   "metadata": {},
   "source": [
    "### 4.3 XGBoostRegression\n",
    "- 높은 예측 성능을 보이며 과적합 방지를 위한 다양한 하이퍼파라미터 제공\n",
    "- 빠른 속도로 대용량 데이터 세트 처리 가능\n",
    "- 다양한 하이퍼파라미터를 조절할 수 있지만 최적의 조합을 찾기 어려움\n",
    "- 많은 메모리 소모"
   ]
  },
  {
   "cell_type": "markdown",
   "id": "b019826c-31b9-415d-b4ce-d7a77e632643",
   "metadata": {},
   "source": [
    "#### (1) 모델 선언"
   ]
  },
  {
   "cell_type": "code",
   "execution_count": 61,
   "id": "ea195688-d9bb-46b0-8dd2-fc03c33f7b20",
   "metadata": {},
   "outputs": [],
   "source": [
    "xgb_reg = XGBRegressor()"
   ]
  },
  {
   "cell_type": "markdown",
   "id": "483eb789-8b4b-4a3e-9560-38cb047cf09b",
   "metadata": {},
   "source": [
    "#### (2) 하이퍼 파라미터 확인"
   ]
  },
  {
   "cell_type": "code",
   "execution_count": 62,
   "id": "b288a828-5a32-4077-a770-8a4fb89ffe07",
   "metadata": {},
   "outputs": [
    {
     "name": "stdout",
     "output_type": "stream",
     "text": [
      "{'objective': 'reg:squarederror', 'base_score': None, 'booster': None, 'callbacks': None, 'colsample_bylevel': None, 'colsample_bynode': None, 'colsample_bytree': None, 'device': None, 'early_stopping_rounds': None, 'enable_categorical': False, 'eval_metric': None, 'feature_types': None, 'gamma': None, 'grow_policy': None, 'importance_type': None, 'interaction_constraints': None, 'learning_rate': None, 'max_bin': None, 'max_cat_threshold': None, 'max_cat_to_onehot': None, 'max_delta_step': None, 'max_depth': None, 'max_leaves': None, 'min_child_weight': None, 'missing': nan, 'monotone_constraints': None, 'multi_strategy': None, 'n_estimators': None, 'n_jobs': None, 'num_parallel_tree': None, 'random_state': None, 'reg_alpha': None, 'reg_lambda': None, 'sampling_method': None, 'scale_pos_weight': None, 'subsample': None, 'tree_method': None, 'validate_parameters': None, 'verbosity': None}\n"
     ]
    }
   ],
   "source": [
    "print(xgb_reg.get_params())"
   ]
  },
  {
   "cell_type": "markdown",
   "id": "e284fa82-f8d1-4163-b27e-3d8095aeb765",
   "metadata": {},
   "source": [
    "#### (3) 모델 학습/평가"
   ]
  },
  {
   "cell_type": "code",
   "execution_count": 63,
   "id": "e6f233f3-c85d-4a82-bae0-f8cc5aac0cd3",
   "metadata": {},
   "outputs": [],
   "source": [
    "xgb_reg.fit(X_train, y_train)\n",
    "pred_xgb = xgb_reg.predict(X_val)"
   ]
  },
  {
   "cell_type": "code",
   "execution_count": 64,
   "id": "ef515037-1777-4c60-838f-c6db067e9934",
   "metadata": {},
   "outputs": [
    {
     "name": "stdout",
     "output_type": "stream",
     "text": [
      "0.9926811086385855\n",
      "0.9583063404043253\n",
      "R2: 0.931540\n",
      "MSE: 29737.087248\n",
      "RMSE: 172.444447\n",
      "MAE: 102.568556\n",
      "#####################################\n",
      "              오차확인               \n",
      "      real_count  pred_count    diff\n",
      "747        959.0      2199.0  1240.0\n",
      "989       2519.0      1465.0  1054.0\n",
      "1390       215.0      1251.0  1036.0\n",
      "380        282.0      1187.0   905.0\n",
      "359       1664.0      2569.0   905.0\n",
      "215       1373.0      2251.0   878.0\n",
      "690       2268.0      3094.0   826.0\n",
      "1020      1557.0      2379.0   822.0\n",
      "482        578.0      1315.0   737.0\n",
      "0         2479.0      1754.0   725.0\n"
     ]
    }
   ],
   "source": [
    "get_model_predict(xgb_reg, X_train, X_val, y_train, y_val, pred_xgb)"
   ]
  },
  {
   "cell_type": "markdown",
   "id": "e5215e7f-d877-4ae5-a294-a9bca08c1d2d",
   "metadata": {},
   "source": [
    "#### (4) 하이퍼 파라미터 튜닝\n",
    "- n_estimators : 부스팅 단계의 수 결정\n",
    "- learning_rate : 각 부스팅 단계에서의 학습률 결정\n",
    "- max_depth : 각 트리의 최대 깊이\n",
    "- min_child_weight : 자식 노드에서의 최소 가중치\n",
    "- subsample : 각 트리를 학습할 때 사용할 데이터의 비율\n",
    "- colsample_bytree : 각 트리에서 사용할 피처의 비율"
   ]
  },
  {
   "cell_type": "code",
   "execution_count": 42,
   "id": "791a8770-e603-428c-b783-4a3e520b3341",
   "metadata": {},
   "outputs": [],
   "source": [
    "params_grid_xgb = {\n",
    "    'n_estimators': [100, 200, 300],\n",
    "    'learning_rate': [0.01, 0.05, 0.1],\n",
    "    'max_depth': [3, 4, 5],\n",
    "    'min_child_weight': [1, 5, 10],\n",
    "    'subsample': [0.6, 0.8, 1.0],\n",
    "    'colsample_bytree': [0.6, 0.8, 1.0]\n",
    "}"
   ]
  },
  {
   "cell_type": "code",
   "execution_count": 43,
   "id": "feb7bea8-4209-42c1-afed-b145ca3a4651",
   "metadata": {},
   "outputs": [
    {
     "data": {
      "text/html": [
       "<style>#sk-container-id-2 {color: black;background-color: white;}#sk-container-id-2 pre{padding: 0;}#sk-container-id-2 div.sk-toggleable {background-color: white;}#sk-container-id-2 label.sk-toggleable__label {cursor: pointer;display: block;width: 100%;margin-bottom: 0;padding: 0.3em;box-sizing: border-box;text-align: center;}#sk-container-id-2 label.sk-toggleable__label-arrow:before {content: \"▸\";float: left;margin-right: 0.25em;color: #696969;}#sk-container-id-2 label.sk-toggleable__label-arrow:hover:before {color: black;}#sk-container-id-2 div.sk-estimator:hover label.sk-toggleable__label-arrow:before {color: black;}#sk-container-id-2 div.sk-toggleable__content {max-height: 0;max-width: 0;overflow: hidden;text-align: left;background-color: #f0f8ff;}#sk-container-id-2 div.sk-toggleable__content pre {margin: 0.2em;color: black;border-radius: 0.25em;background-color: #f0f8ff;}#sk-container-id-2 input.sk-toggleable__control:checked~div.sk-toggleable__content {max-height: 200px;max-width: 100%;overflow: auto;}#sk-container-id-2 input.sk-toggleable__control:checked~label.sk-toggleable__label-arrow:before {content: \"▾\";}#sk-container-id-2 div.sk-estimator input.sk-toggleable__control:checked~label.sk-toggleable__label {background-color: #d4ebff;}#sk-container-id-2 div.sk-label input.sk-toggleable__control:checked~label.sk-toggleable__label {background-color: #d4ebff;}#sk-container-id-2 input.sk-hidden--visually {border: 0;clip: rect(1px 1px 1px 1px);clip: rect(1px, 1px, 1px, 1px);height: 1px;margin: -1px;overflow: hidden;padding: 0;position: absolute;width: 1px;}#sk-container-id-2 div.sk-estimator {font-family: monospace;background-color: #f0f8ff;border: 1px dotted black;border-radius: 0.25em;box-sizing: border-box;margin-bottom: 0.5em;}#sk-container-id-2 div.sk-estimator:hover {background-color: #d4ebff;}#sk-container-id-2 div.sk-parallel-item::after {content: \"\";width: 100%;border-bottom: 1px solid gray;flex-grow: 1;}#sk-container-id-2 div.sk-label:hover label.sk-toggleable__label {background-color: #d4ebff;}#sk-container-id-2 div.sk-serial::before {content: \"\";position: absolute;border-left: 1px solid gray;box-sizing: border-box;top: 0;bottom: 0;left: 50%;z-index: 0;}#sk-container-id-2 div.sk-serial {display: flex;flex-direction: column;align-items: center;background-color: white;padding-right: 0.2em;padding-left: 0.2em;position: relative;}#sk-container-id-2 div.sk-item {position: relative;z-index: 1;}#sk-container-id-2 div.sk-parallel {display: flex;align-items: stretch;justify-content: center;background-color: white;position: relative;}#sk-container-id-2 div.sk-item::before, #sk-container-id-2 div.sk-parallel-item::before {content: \"\";position: absolute;border-left: 1px solid gray;box-sizing: border-box;top: 0;bottom: 0;left: 50%;z-index: -1;}#sk-container-id-2 div.sk-parallel-item {display: flex;flex-direction: column;z-index: 1;position: relative;background-color: white;}#sk-container-id-2 div.sk-parallel-item:first-child::after {align-self: flex-end;width: 50%;}#sk-container-id-2 div.sk-parallel-item:last-child::after {align-self: flex-start;width: 50%;}#sk-container-id-2 div.sk-parallel-item:only-child::after {width: 0;}#sk-container-id-2 div.sk-dashed-wrapped {border: 1px dashed gray;margin: 0 0.4em 0.5em 0.4em;box-sizing: border-box;padding-bottom: 0.4em;background-color: white;}#sk-container-id-2 div.sk-label label {font-family: monospace;font-weight: bold;display: inline-block;line-height: 1.2em;}#sk-container-id-2 div.sk-label-container {text-align: center;}#sk-container-id-2 div.sk-container {/* jupyter's `normalize.less` sets `[hidden] { display: none; }` but bootstrap.min.css set `[hidden] { display: none !important; }` so we also need the `!important` here to be able to override the default hidden behavior on the sphinx rendered scikit-learn.org. See: https://github.com/scikit-learn/scikit-learn/issues/21755 */display: inline-block !important;position: relative;}#sk-container-id-2 div.sk-text-repr-fallback {display: none;}</style><div id=\"sk-container-id-2\" class=\"sk-top-container\"><div class=\"sk-text-repr-fallback\"><pre>GridSearchCV(cv=3,\n",
       "             estimator=XGBRegressor(base_score=None, booster=None,\n",
       "                                    callbacks=None, colsample_bylevel=None,\n",
       "                                    colsample_bynode=None,\n",
       "                                    colsample_bytree=None, device=None,\n",
       "                                    early_stopping_rounds=None,\n",
       "                                    enable_categorical=False, eval_metric=None,\n",
       "                                    feature_types=None, gamma=None,\n",
       "                                    grow_policy=None, importance_type=None,\n",
       "                                    interaction_constraints=None,\n",
       "                                    learning_rate=None, m...\n",
       "                                    max_depth=None, max_leaves=None,\n",
       "                                    min_child_weight=None, missing=nan,\n",
       "                                    monotone_constraints=None,\n",
       "                                    multi_strategy=None, n_estimators=None,\n",
       "                                    n_jobs=None, num_parallel_tree=None,\n",
       "                                    random_state=None, ...),\n",
       "             param_grid={&#x27;colsample_bytree&#x27;: [0.6, 0.8, 1.0],\n",
       "                         &#x27;learning_rate&#x27;: [0.01, 0.05, 0.1],\n",
       "                         &#x27;max_depth&#x27;: [3, 4, 5], &#x27;min_child_weight&#x27;: [1, 5, 10],\n",
       "                         &#x27;n_estimators&#x27;: [100, 200, 300],\n",
       "                         &#x27;subsample&#x27;: [0.6, 0.8, 1.0]})</pre><b>In a Jupyter environment, please rerun this cell to show the HTML representation or trust the notebook. <br />On GitHub, the HTML representation is unable to render, please try loading this page with nbviewer.org.</b></div><div class=\"sk-container\" hidden><div class=\"sk-item sk-dashed-wrapped\"><div class=\"sk-label-container\"><div class=\"sk-label sk-toggleable\"><input class=\"sk-toggleable__control sk-hidden--visually\" id=\"sk-estimator-id-4\" type=\"checkbox\" ><label for=\"sk-estimator-id-4\" class=\"sk-toggleable__label sk-toggleable__label-arrow\">GridSearchCV</label><div class=\"sk-toggleable__content\"><pre>GridSearchCV(cv=3,\n",
       "             estimator=XGBRegressor(base_score=None, booster=None,\n",
       "                                    callbacks=None, colsample_bylevel=None,\n",
       "                                    colsample_bynode=None,\n",
       "                                    colsample_bytree=None, device=None,\n",
       "                                    early_stopping_rounds=None,\n",
       "                                    enable_categorical=False, eval_metric=None,\n",
       "                                    feature_types=None, gamma=None,\n",
       "                                    grow_policy=None, importance_type=None,\n",
       "                                    interaction_constraints=None,\n",
       "                                    learning_rate=None, m...\n",
       "                                    max_depth=None, max_leaves=None,\n",
       "                                    min_child_weight=None, missing=nan,\n",
       "                                    monotone_constraints=None,\n",
       "                                    multi_strategy=None, n_estimators=None,\n",
       "                                    n_jobs=None, num_parallel_tree=None,\n",
       "                                    random_state=None, ...),\n",
       "             param_grid={&#x27;colsample_bytree&#x27;: [0.6, 0.8, 1.0],\n",
       "                         &#x27;learning_rate&#x27;: [0.01, 0.05, 0.1],\n",
       "                         &#x27;max_depth&#x27;: [3, 4, 5], &#x27;min_child_weight&#x27;: [1, 5, 10],\n",
       "                         &#x27;n_estimators&#x27;: [100, 200, 300],\n",
       "                         &#x27;subsample&#x27;: [0.6, 0.8, 1.0]})</pre></div></div></div><div class=\"sk-parallel\"><div class=\"sk-parallel-item\"><div class=\"sk-item\"><div class=\"sk-label-container\"><div class=\"sk-label sk-toggleable\"><input class=\"sk-toggleable__control sk-hidden--visually\" id=\"sk-estimator-id-5\" type=\"checkbox\" ><label for=\"sk-estimator-id-5\" class=\"sk-toggleable__label sk-toggleable__label-arrow\">estimator: XGBRegressor</label><div class=\"sk-toggleable__content\"><pre>XGBRegressor(base_score=None, booster=None, callbacks=None,\n",
       "             colsample_bylevel=None, colsample_bynode=None,\n",
       "             colsample_bytree=None, device=None, early_stopping_rounds=None,\n",
       "             enable_categorical=False, eval_metric=None, feature_types=None,\n",
       "             gamma=None, grow_policy=None, importance_type=None,\n",
       "             interaction_constraints=None, learning_rate=None, max_bin=None,\n",
       "             max_cat_threshold=None, max_cat_to_onehot=None,\n",
       "             max_delta_step=None, max_depth=None, max_leaves=None,\n",
       "             min_child_weight=None, missing=nan, monotone_constraints=None,\n",
       "             multi_strategy=None, n_estimators=None, n_jobs=None,\n",
       "             num_parallel_tree=None, random_state=None, ...)</pre></div></div></div><div class=\"sk-serial\"><div class=\"sk-item\"><div class=\"sk-estimator sk-toggleable\"><input class=\"sk-toggleable__control sk-hidden--visually\" id=\"sk-estimator-id-6\" type=\"checkbox\" ><label for=\"sk-estimator-id-6\" class=\"sk-toggleable__label sk-toggleable__label-arrow\">XGBRegressor</label><div class=\"sk-toggleable__content\"><pre>XGBRegressor(base_score=None, booster=None, callbacks=None,\n",
       "             colsample_bylevel=None, colsample_bynode=None,\n",
       "             colsample_bytree=None, device=None, early_stopping_rounds=None,\n",
       "             enable_categorical=False, eval_metric=None, feature_types=None,\n",
       "             gamma=None, grow_policy=None, importance_type=None,\n",
       "             interaction_constraints=None, learning_rate=None, max_bin=None,\n",
       "             max_cat_threshold=None, max_cat_to_onehot=None,\n",
       "             max_delta_step=None, max_depth=None, max_leaves=None,\n",
       "             min_child_weight=None, missing=nan, monotone_constraints=None,\n",
       "             multi_strategy=None, n_estimators=None, n_jobs=None,\n",
       "             num_parallel_tree=None, random_state=None, ...)</pre></div></div></div></div></div></div></div></div></div></div>"
      ],
      "text/plain": [
       "GridSearchCV(cv=3,\n",
       "             estimator=XGBRegressor(base_score=None, booster=None,\n",
       "                                    callbacks=None, colsample_bylevel=None,\n",
       "                                    colsample_bynode=None,\n",
       "                                    colsample_bytree=None, device=None,\n",
       "                                    early_stopping_rounds=None,\n",
       "                                    enable_categorical=False, eval_metric=None,\n",
       "                                    feature_types=None, gamma=None,\n",
       "                                    grow_policy=None, importance_type=None,\n",
       "                                    interaction_constraints=None,\n",
       "                                    learning_rate=None, m...\n",
       "                                    max_depth=None, max_leaves=None,\n",
       "                                    min_child_weight=None, missing=nan,\n",
       "                                    monotone_constraints=None,\n",
       "                                    multi_strategy=None, n_estimators=None,\n",
       "                                    n_jobs=None, num_parallel_tree=None,\n",
       "                                    random_state=None, ...),\n",
       "             param_grid={'colsample_bytree': [0.6, 0.8, 1.0],\n",
       "                         'learning_rate': [0.01, 0.05, 0.1],\n",
       "                         'max_depth': [3, 4, 5], 'min_child_weight': [1, 5, 10],\n",
       "                         'n_estimators': [100, 200, 300],\n",
       "                         'subsample': [0.6, 0.8, 1.0]})"
      ]
     },
     "execution_count": 43,
     "metadata": {},
     "output_type": "execute_result"
    }
   ],
   "source": [
    "gs_xgb = GridSearchCV(estimator=xgb_reg,param_grid=params_grid_xgb , cv = 3)\n",
    "gs_xgb.fit(X_train, y_train)"
   ]
  },
  {
   "cell_type": "code",
   "execution_count": 44,
   "id": "90492462-6c3b-4cea-aed9-77daea12c578",
   "metadata": {},
   "outputs": [
    {
     "data": {
      "text/plain": [
       "0.9486637040816497"
      ]
     },
     "execution_count": 44,
     "metadata": {},
     "output_type": "execute_result"
    }
   ],
   "source": [
    "gs_xgb.best_score_"
   ]
  },
  {
   "cell_type": "code",
   "execution_count": 45,
   "id": "0d7171f5-5a99-4f1f-a6bd-aa9afa780ebe",
   "metadata": {},
   "outputs": [
    {
     "data": {
      "text/plain": [
       "{'colsample_bytree': 1.0,\n",
       " 'learning_rate': 0.1,\n",
       " 'max_depth': 5,\n",
       " 'min_child_weight': 1,\n",
       " 'n_estimators': 300,\n",
       " 'subsample': 0.8}"
      ]
     },
     "execution_count": 45,
     "metadata": {},
     "output_type": "execute_result"
    }
   ],
   "source": [
    "gs_xgb.best_params_"
   ]
  },
  {
   "cell_type": "code",
   "execution_count": 65,
   "id": "fb50fb3c-304c-4227-8e4f-6bf61e112f35",
   "metadata": {},
   "outputs": [],
   "source": [
    "xgb_reg_tune = XGBRegressor(colsample_bytree=1.0, learning_rate=0.1, max_depth=5,\n",
    "                           min_child_weight=1, n_estimators=300, subsample=0.8)\n",
    "xgb_reg_tune.fit(X_train, y_train)\n",
    "pred_xgb_tune = xgb_reg_tune.predict(X_val)"
   ]
  },
  {
   "cell_type": "code",
   "execution_count": 66,
   "id": "3f99ba98-2c82-4b95-9dd7-06a2d7776ff8",
   "metadata": {},
   "outputs": [
    {
     "name": "stdout",
     "output_type": "stream",
     "text": [
      "0.9885509253217998\n",
      "0.9586263080762434\n",
      "R2: 0.930614\n",
      "MSE: 30139.087663\n",
      "RMSE: 173.606128\n",
      "MAE: 102.180338\n",
      "#####################################\n",
      "              오차확인               \n",
      "      real_count  pred_count    diff\n",
      "747        959.0      2335.0  1376.0\n",
      "690       2268.0      3395.0  1127.0\n",
      "482        578.0      1602.0  1024.0\n",
      "380        282.0      1220.0   938.0\n",
      "359       1664.0      2560.0   896.0\n",
      "117       2965.0      2075.0   890.0\n",
      "1020      1557.0      2419.0   862.0\n",
      "0         2479.0      1661.0   818.0\n",
      "1134       137.0       929.0   792.0\n",
      "729       1289.0       527.0   762.0\n"
     ]
    }
   ],
   "source": [
    "get_model_predict(xgb_reg_tune, X_train, X_val, y_train, y_val, pred_xgb_tune)"
   ]
  },
  {
   "cell_type": "markdown",
   "id": "94dd2988-f95b-43ef-b57f-7b963bcba505",
   "metadata": {},
   "source": [
    "### 4.4 LGBMRegressor"
   ]
  },
  {
   "cell_type": "markdown",
   "id": "39b66cec-0e97-48ed-9011-7f1497652d5a",
   "metadata": {},
   "source": [
    "#### (1) 모델 선언"
   ]
  },
  {
   "cell_type": "code",
   "execution_count": 67,
   "id": "72514d3a-306e-42ab-9a10-7835d445fe47",
   "metadata": {},
   "outputs": [],
   "source": [
    "lgbm_reg = LGBMRegressor()"
   ]
  },
  {
   "cell_type": "markdown",
   "id": "058818d1-e067-4e8d-a9d0-6a665b0b15b8",
   "metadata": {},
   "source": [
    "#### (2) 하이퍼 파라미터 확인"
   ]
  },
  {
   "cell_type": "code",
   "execution_count": 68,
   "id": "4590b435-82eb-4c9b-8751-88146ad70a86",
   "metadata": {},
   "outputs": [
    {
     "name": "stdout",
     "output_type": "stream",
     "text": [
      "{'boosting_type': 'gbdt', 'class_weight': None, 'colsample_bytree': 1.0, 'importance_type': 'split', 'learning_rate': 0.1, 'max_depth': -1, 'min_child_samples': 20, 'min_child_weight': 0.001, 'min_split_gain': 0.0, 'n_estimators': 100, 'n_jobs': -1, 'num_leaves': 31, 'objective': None, 'random_state': None, 'reg_alpha': 0.0, 'reg_lambda': 0.0, 'silent': 'warn', 'subsample': 1.0, 'subsample_for_bin': 200000, 'subsample_freq': 0}\n"
     ]
    }
   ],
   "source": [
    "print(lgbm_reg.get_params())"
   ]
  },
  {
   "cell_type": "markdown",
   "id": "fb2b2d80-ca10-40f6-906e-bafcef9fe1f9",
   "metadata": {},
   "source": [
    "#### (3) 모델 학습/평가"
   ]
  },
  {
   "cell_type": "code",
   "execution_count": 69,
   "id": "033616a6-b08e-45dd-9b50-838592b148fa",
   "metadata": {},
   "outputs": [],
   "source": [
    "lgbm_reg.fit(X_train, y_train)\n",
    "pred_lgbm = lgbm_reg.predict(X_val)"
   ]
  },
  {
   "cell_type": "code",
   "execution_count": 70,
   "id": "0ebd3408-9251-4e32-acb9-a3fc58fa5749",
   "metadata": {},
   "outputs": [
    {
     "name": "stdout",
     "output_type": "stream",
     "text": [
      "0.975629186001978\n",
      "0.9530459681771059\n",
      "R2: 0.928735\n",
      "MSE: 30955.175710\n",
      "RMSE: 175.940830\n",
      "MAE: 105.153903\n",
      "#####################################\n",
      "              오차확인               \n",
      "      real_count  pred_count    diff\n",
      "747        959.0      2346.0  1387.0\n",
      "380        282.0      1232.0   950.0\n",
      "340       1491.0      2423.0   932.0\n",
      "1020      1557.0      2452.0   895.0\n",
      "0         2479.0      1657.0   822.0\n",
      "729       1289.0       474.0   815.0\n",
      "821       1995.0      1224.0   771.0\n",
      "1134       137.0       895.0   758.0\n",
      "690       2268.0      3023.0   755.0\n",
      "835       1330.0       614.0   716.0\n"
     ]
    }
   ],
   "source": [
    "get_model_predict(lgbm_reg, X_train, X_val, y_train, y_val, pred_lgbm)"
   ]
  },
  {
   "cell_type": "markdown",
   "id": "cac05051-864c-4356-849c-8c6a0233f521",
   "metadata": {},
   "source": [
    "#### (4) 하이퍼 파라미터 튜닝"
   ]
  },
  {
   "cell_type": "code",
   "execution_count": 52,
   "id": "7d7c9dbd-b723-4574-bed7-327680515c3d",
   "metadata": {},
   "outputs": [],
   "source": [
    "params_grid_lgbm = {\n",
    "    'n_estimators': [100, 200, 500],\n",
    "    'learning_rate': [0.01, 0.05, 0.1],\n",
    "    'max_depth': [-1, 3, 5, 7],\n",
    "    'num_leaves': [31, 63, 127],\n",
    "    'min_child_samples': [20, 30, 50],\n",
    "    'subsample': [0.6, 0.8, 1.0],\n",
    "    'colsample_bytree': [0.6, 0.8, 1.0]\n",
    "}"
   ]
  },
  {
   "cell_type": "code",
   "execution_count": 53,
   "id": "3c1f9c63-27e6-4f4e-890d-ed6ff4989a69",
   "metadata": {},
   "outputs": [
    {
     "data": {
      "text/html": [
       "<style>#sk-container-id-3 {color: black;background-color: white;}#sk-container-id-3 pre{padding: 0;}#sk-container-id-3 div.sk-toggleable {background-color: white;}#sk-container-id-3 label.sk-toggleable__label {cursor: pointer;display: block;width: 100%;margin-bottom: 0;padding: 0.3em;box-sizing: border-box;text-align: center;}#sk-container-id-3 label.sk-toggleable__label-arrow:before {content: \"▸\";float: left;margin-right: 0.25em;color: #696969;}#sk-container-id-3 label.sk-toggleable__label-arrow:hover:before {color: black;}#sk-container-id-3 div.sk-estimator:hover label.sk-toggleable__label-arrow:before {color: black;}#sk-container-id-3 div.sk-toggleable__content {max-height: 0;max-width: 0;overflow: hidden;text-align: left;background-color: #f0f8ff;}#sk-container-id-3 div.sk-toggleable__content pre {margin: 0.2em;color: black;border-radius: 0.25em;background-color: #f0f8ff;}#sk-container-id-3 input.sk-toggleable__control:checked~div.sk-toggleable__content {max-height: 200px;max-width: 100%;overflow: auto;}#sk-container-id-3 input.sk-toggleable__control:checked~label.sk-toggleable__label-arrow:before {content: \"▾\";}#sk-container-id-3 div.sk-estimator input.sk-toggleable__control:checked~label.sk-toggleable__label {background-color: #d4ebff;}#sk-container-id-3 div.sk-label input.sk-toggleable__control:checked~label.sk-toggleable__label {background-color: #d4ebff;}#sk-container-id-3 input.sk-hidden--visually {border: 0;clip: rect(1px 1px 1px 1px);clip: rect(1px, 1px, 1px, 1px);height: 1px;margin: -1px;overflow: hidden;padding: 0;position: absolute;width: 1px;}#sk-container-id-3 div.sk-estimator {font-family: monospace;background-color: #f0f8ff;border: 1px dotted black;border-radius: 0.25em;box-sizing: border-box;margin-bottom: 0.5em;}#sk-container-id-3 div.sk-estimator:hover {background-color: #d4ebff;}#sk-container-id-3 div.sk-parallel-item::after {content: \"\";width: 100%;border-bottom: 1px solid gray;flex-grow: 1;}#sk-container-id-3 div.sk-label:hover label.sk-toggleable__label {background-color: #d4ebff;}#sk-container-id-3 div.sk-serial::before {content: \"\";position: absolute;border-left: 1px solid gray;box-sizing: border-box;top: 0;bottom: 0;left: 50%;z-index: 0;}#sk-container-id-3 div.sk-serial {display: flex;flex-direction: column;align-items: center;background-color: white;padding-right: 0.2em;padding-left: 0.2em;position: relative;}#sk-container-id-3 div.sk-item {position: relative;z-index: 1;}#sk-container-id-3 div.sk-parallel {display: flex;align-items: stretch;justify-content: center;background-color: white;position: relative;}#sk-container-id-3 div.sk-item::before, #sk-container-id-3 div.sk-parallel-item::before {content: \"\";position: absolute;border-left: 1px solid gray;box-sizing: border-box;top: 0;bottom: 0;left: 50%;z-index: -1;}#sk-container-id-3 div.sk-parallel-item {display: flex;flex-direction: column;z-index: 1;position: relative;background-color: white;}#sk-container-id-3 div.sk-parallel-item:first-child::after {align-self: flex-end;width: 50%;}#sk-container-id-3 div.sk-parallel-item:last-child::after {align-self: flex-start;width: 50%;}#sk-container-id-3 div.sk-parallel-item:only-child::after {width: 0;}#sk-container-id-3 div.sk-dashed-wrapped {border: 1px dashed gray;margin: 0 0.4em 0.5em 0.4em;box-sizing: border-box;padding-bottom: 0.4em;background-color: white;}#sk-container-id-3 div.sk-label label {font-family: monospace;font-weight: bold;display: inline-block;line-height: 1.2em;}#sk-container-id-3 div.sk-label-container {text-align: center;}#sk-container-id-3 div.sk-container {/* jupyter's `normalize.less` sets `[hidden] { display: none; }` but bootstrap.min.css set `[hidden] { display: none !important; }` so we also need the `!important` here to be able to override the default hidden behavior on the sphinx rendered scikit-learn.org. See: https://github.com/scikit-learn/scikit-learn/issues/21755 */display: inline-block !important;position: relative;}#sk-container-id-3 div.sk-text-repr-fallback {display: none;}</style><div id=\"sk-container-id-3\" class=\"sk-top-container\"><div class=\"sk-text-repr-fallback\"><pre>GridSearchCV(cv=3, estimator=LGBMRegressor(),\n",
       "             param_grid={&#x27;colsample_bytree&#x27;: [0.6, 0.8, 1.0],\n",
       "                         &#x27;learning_rate&#x27;: [0.01, 0.05, 0.1],\n",
       "                         &#x27;max_depth&#x27;: [-1, 3, 5, 7],\n",
       "                         &#x27;min_child_samples&#x27;: [20, 30, 50],\n",
       "                         &#x27;n_estimators&#x27;: [100, 200, 500],\n",
       "                         &#x27;num_leaves&#x27;: [31, 63, 127],\n",
       "                         &#x27;subsample&#x27;: [0.6, 0.8, 1.0]})</pre><b>In a Jupyter environment, please rerun this cell to show the HTML representation or trust the notebook. <br />On GitHub, the HTML representation is unable to render, please try loading this page with nbviewer.org.</b></div><div class=\"sk-container\" hidden><div class=\"sk-item sk-dashed-wrapped\"><div class=\"sk-label-container\"><div class=\"sk-label sk-toggleable\"><input class=\"sk-toggleable__control sk-hidden--visually\" id=\"sk-estimator-id-7\" type=\"checkbox\" ><label for=\"sk-estimator-id-7\" class=\"sk-toggleable__label sk-toggleable__label-arrow\">GridSearchCV</label><div class=\"sk-toggleable__content\"><pre>GridSearchCV(cv=3, estimator=LGBMRegressor(),\n",
       "             param_grid={&#x27;colsample_bytree&#x27;: [0.6, 0.8, 1.0],\n",
       "                         &#x27;learning_rate&#x27;: [0.01, 0.05, 0.1],\n",
       "                         &#x27;max_depth&#x27;: [-1, 3, 5, 7],\n",
       "                         &#x27;min_child_samples&#x27;: [20, 30, 50],\n",
       "                         &#x27;n_estimators&#x27;: [100, 200, 500],\n",
       "                         &#x27;num_leaves&#x27;: [31, 63, 127],\n",
       "                         &#x27;subsample&#x27;: [0.6, 0.8, 1.0]})</pre></div></div></div><div class=\"sk-parallel\"><div class=\"sk-parallel-item\"><div class=\"sk-item\"><div class=\"sk-label-container\"><div class=\"sk-label sk-toggleable\"><input class=\"sk-toggleable__control sk-hidden--visually\" id=\"sk-estimator-id-8\" type=\"checkbox\" ><label for=\"sk-estimator-id-8\" class=\"sk-toggleable__label sk-toggleable__label-arrow\">estimator: LGBMRegressor</label><div class=\"sk-toggleable__content\"><pre>LGBMRegressor()</pre></div></div></div><div class=\"sk-serial\"><div class=\"sk-item\"><div class=\"sk-estimator sk-toggleable\"><input class=\"sk-toggleable__control sk-hidden--visually\" id=\"sk-estimator-id-9\" type=\"checkbox\" ><label for=\"sk-estimator-id-9\" class=\"sk-toggleable__label sk-toggleable__label-arrow\">LGBMRegressor</label><div class=\"sk-toggleable__content\"><pre>LGBMRegressor()</pre></div></div></div></div></div></div></div></div></div></div>"
      ],
      "text/plain": [
       "GridSearchCV(cv=3, estimator=LGBMRegressor(),\n",
       "             param_grid={'colsample_bytree': [0.6, 0.8, 1.0],\n",
       "                         'learning_rate': [0.01, 0.05, 0.1],\n",
       "                         'max_depth': [-1, 3, 5, 7],\n",
       "                         'min_child_samples': [20, 30, 50],\n",
       "                         'n_estimators': [100, 200, 500],\n",
       "                         'num_leaves': [31, 63, 127],\n",
       "                         'subsample': [0.6, 0.8, 1.0]})"
      ]
     },
     "execution_count": 53,
     "metadata": {},
     "output_type": "execute_result"
    }
   ],
   "source": [
    "gs_lgbm = GridSearchCV(estimator=lgbm_reg, param_grid=params_grid_lgbm , cv = 3)\n",
    "gs_lgbm.fit(X_train, y_train)"
   ]
  },
  {
   "cell_type": "code",
   "execution_count": 54,
   "id": "eb0a4f58-b7d5-4335-8283-245797469b11",
   "metadata": {},
   "outputs": [
    {
     "data": {
      "text/plain": [
       "0.9480429961009474"
      ]
     },
     "execution_count": 54,
     "metadata": {},
     "output_type": "execute_result"
    }
   ],
   "source": [
    "gs_lgbm.best_score_"
   ]
  },
  {
   "cell_type": "code",
   "execution_count": 55,
   "id": "4058b044-a312-4b76-9e51-e3f6e14ab3c7",
   "metadata": {},
   "outputs": [
    {
     "data": {
      "text/plain": [
       "{'colsample_bytree': 0.8,\n",
       " 'learning_rate': 0.1,\n",
       " 'max_depth': -1,\n",
       " 'min_child_samples': 20,\n",
       " 'n_estimators': 500,\n",
       " 'num_leaves': 31,\n",
       " 'subsample': 0.6}"
      ]
     },
     "execution_count": 55,
     "metadata": {},
     "output_type": "execute_result"
    }
   ],
   "source": [
    "gs_lgbm.best_params_"
   ]
  },
  {
   "cell_type": "code",
   "execution_count": 71,
   "id": "5a0962ce-eca3-41d0-81f9-0f619c9b07c2",
   "metadata": {},
   "outputs": [],
   "source": [
    "lgbm_reg_tune = LGBMRegressor(colsample_bytree=0.8,learning_rate=0.1,\n",
    "                             max_depth=-1, min_child_samples=20,\n",
    "                             n_estimators=500, num_leaves=31,\n",
    "                             subsample=0.6)\n",
    "lgbm_reg_tune.fit(X_train, y_train)\n",
    "pred_lgbm_tune = lgbm_reg_tune.predict(X_val)"
   ]
  },
  {
   "cell_type": "code",
   "execution_count": 72,
   "id": "29fd2c83-7d05-47c9-900b-c2f2794f331d",
   "metadata": {},
   "outputs": [
    {
     "name": "stdout",
     "output_type": "stream",
     "text": [
      "0.9946641435502277\n",
      "0.9623412574323095\n",
      "R2: 0.941975\n",
      "MSE: 25204.457584\n",
      "RMSE: 158.759118\n",
      "MAE: 90.653048\n",
      "#####################################\n",
      "              오차확인               \n",
      "      real_count  pred_count    diff\n",
      "1020      1557.0      2790.0  1233.0\n",
      "690       2268.0      3469.0  1201.0\n",
      "747        959.0      2149.0  1190.0\n",
      "1328      2162.0      3188.0  1026.0\n",
      "380        282.0      1238.0   956.0\n",
      "359       1664.0      2545.0   881.0\n",
      "637       1933.0      1175.0   758.0\n",
      "340       1491.0      2244.0   753.0\n",
      "482        578.0      1266.0   688.0\n",
      "653       1117.0       440.0   677.0\n"
     ]
    }
   ],
   "source": [
    "get_model_predict(lgbm_reg_tune, X_train, X_val, y_train, y_val, pred_lgbm_tune)"
   ]
  },
  {
   "cell_type": "markdown",
   "id": "dc8d7eb1-210f-4dca-9fad-ce2ec63dc32d",
   "metadata": {},
   "source": [
    "#### (5) 변수 중요도 확인"
   ]
  },
  {
   "cell_type": "code",
   "execution_count": 73,
   "id": "6c4ce5fa-ce8f-46ba-b4cd-21ca9dfcce98",
   "metadata": {},
   "outputs": [
    {
     "data": {
      "text/plain": [
       "<function matplotlib.pyplot.show(close=None, block=None)>"
      ]
     },
     "execution_count": 73,
     "metadata": {},
     "output_type": "execute_result"
    },
    {
     "data": {
      "image/png": "[encoded data removed]",
      "text/plain": [
       "<Figure size 1200x1000 with 1 Axes>"
      ]
     },
     "metadata": {
      "image/png": {
       "height": 854,
       "width": 1146
      }
     },
     "output_type": "display_data"
    }
   ],
   "source": [
    "from lightgbm import plot_importance\n",
    "plot_importance(lgbm_reg_tune, figsize=(12,10), height=0.5, max_num_features=20) # 상위 20개 추출\n",
    "plt.show"
   ]
  },
  {
   "cell_type": "markdown",
   "id": "0f91d23f-88ff-4b71-8453-f43ef2d7eafe",
   "metadata": {},
   "source": [
    "- 'Temperature', 'Visibility', 'Dew_point_temperature', 'Humidity', 'Wind_speed' 순으로 변수 중요도가 높게 나옴.\n",
    "- 온도에 따라 대여량의 영향을 미쳤다는 것을 보면 사람들은 더운지, 추운지, 선선한지 등의 환경 요인에 따라 대여를 결정한다고 볼 수 있음.\n",
    "- 가시성, 이슬점, 습도의 영향을 많이 받는 것을 보면 비가 내린 후, 습도가 올라가고 앞이 잘 보이지 않으면 이용률이 낮아지고 미세먼지가 심해지면 가시성이 떨어져 대여량이 줄어들 수 있음을 알 수 있음.\n",
    "- 또한, 요일, 시간 등의 요인에 따라 대여량의 변화가 보인다는 것을 알 수 있음.\n",
    "- 이러한 점을 바탕으로 대여량이 적은 시간 혹은 날짜, 계절을 이용하여 자전거의 유지 보수를 진행할 수 있고, 대여량이 많은 위치 등의 데이터와 결합하여 어떤 곳에 자전거를 더 두어야 할 지 예측할 수 있을 것이다."
   ]
  },
  {
   "cell_type": "markdown",
   "id": "38412465-9f31-4ef9-b467-99a307faeffd",
   "metadata": {},
   "source": [
    "### 4.5 모델 선정"
   ]
  },
  {
   "cell_type": "markdown",
   "id": "4a210f24-d213-477e-8027-17ea5b854559",
   "metadata": {},
   "source": [
    "선정된 모델 : LGBMRegressor\n",
    "\n",
    "선정 이유 : 파라미터 튜닝을 한 모델까지 고려하여 총 8개의 모델을 비교했을 때, LGBMRegressor의 하이퍼 파라미터를 튜닝한 모델이 가장 좋은 score를 보여줬다. r2_score는 약 0.9532, MSE는 약 19357.8374, RMSE는 약 139.1325, MAE는 약 82.4943이 나왔다. 해당 모델로 예측했을 경우, 실제값과의 오차가 가장 작았던 것을 볼 수 있었고 변수들의 특징을 잘 적용한 모델이라고 판단했다. 이러한 이유를 바탕으로 최종 모델로 선정하여 test 데이터를 예측한다."
   ]
  },
  {
   "cell_type": "markdown",
   "id": "0ec28855-c934-4b89-8606-57ae41ce33fb",
   "metadata": {},
   "source": [
    "## 최종 모델 - test 예측"
   ]
  },
  {
   "cell_type": "code",
   "execution_count": 74,
   "id": "e532748f-38af-474b-9e72-cd1091d8a66a",
   "metadata": {},
   "outputs": [],
   "source": [
    "pred = lgbm_reg_tune.predict(X_test)\n",
    "pred = np.expm1(pred)\n",
    "pred = pd.DataFrame(pred.astype('int64'), columns=['Rented Bike Count'])"
   ]
  },
  {
   "cell_type": "code",
   "execution_count": 75,
   "id": "314972b9-98e9-4592-a6ed-2bcd51756dd8",
   "metadata": {},
   "outputs": [
    {
     "data": {
      "text/html": [
       "<div>\n",
       "<style scoped>\n",
       "    .dataframe tbody tr th:only-of-type {\n",
       "        vertical-align: middle;\n",
       "    }\n",
       "\n",
       "    .dataframe tbody tr th {\n",
       "        vertical-align: top;\n",
       "    }\n",
       "\n",
       "    .dataframe thead th {\n",
       "        text-align: right;\n",
       "    }\n",
       "</style>\n",
       "<table border=\"1\" class=\"dataframe\">\n",
       "  <thead>\n",
       "    <tr style=\"text-align: right;\">\n",
       "      <th></th>\n",
       "      <th>Temperature</th>\n",
       "      <th>Humidity</th>\n",
       "      <th>Wind speed</th>\n",
       "      <th>Visibility</th>\n",
       "      <th>Dew point temperature</th>\n",
       "      <th>Solar Radiation</th>\n",
       "      <th>Rainfall</th>\n",
       "      <th>Snowfall</th>\n",
       "      <th>Seasons_Autumn</th>\n",
       "      <th>Seasons_Summer</th>\n",
       "      <th>Seasons_Winter</th>\n",
       "      <th>Holiday_Holiday</th>\n",
       "      <th>Holiday_No Holiday</th>\n",
       "      <th>Functioning Day_No</th>\n",
       "      <th>Functioning Day_Yes</th>\n",
       "      <th>week_Friday</th>\n",
       "      <th>week_Monday</th>\n",
       "      <th>week_Saturday</th>\n",
       "      <th>week_Sunday</th>\n",
       "      <th>week_Tuesday</th>\n",
       "      <th>week_Wednesday</th>\n",
       "      <th>month_1</th>\n",
       "      <th>month_2</th>\n",
       "      <th>month_3</th>\n",
       "      <th>month_4</th>\n",
       "      <th>month_5</th>\n",
       "      <th>month_6</th>\n",
       "      <th>month_8</th>\n",
       "      <th>month_9</th>\n",
       "      <th>month_10</th>\n",
       "      <th>month_11</th>\n",
       "      <th>month_12</th>\n",
       "      <th>day_1</th>\n",
       "      <th>day_2</th>\n",
       "      <th>day_3</th>\n",
       "      <th>day_4</th>\n",
       "      <th>day_5</th>\n",
       "      <th>day_6</th>\n",
       "      <th>day_7</th>\n",
       "      <th>day_8</th>\n",
       "      <th>day_9</th>\n",
       "      <th>day_10</th>\n",
       "      <th>day_11</th>\n",
       "      <th>day_12</th>\n",
       "      <th>day_13</th>\n",
       "      <th>day_14</th>\n",
       "      <th>day_15</th>\n",
       "      <th>day_16</th>\n",
       "      <th>day_17</th>\n",
       "      <th>day_18</th>\n",
       "      <th>day_19</th>\n",
       "      <th>day_20</th>\n",
       "      <th>day_21</th>\n",
       "      <th>day_22</th>\n",
       "      <th>day_23</th>\n",
       "      <th>day_24</th>\n",
       "      <th>day_25</th>\n",
       "      <th>day_26</th>\n",
       "      <th>day_27</th>\n",
       "      <th>day_28</th>\n",
       "      <th>day_29</th>\n",
       "      <th>day_30</th>\n",
       "      <th>Hour_0</th>\n",
       "      <th>Hour_1</th>\n",
       "      <th>Hour_2</th>\n",
       "      <th>Hour_3</th>\n",
       "      <th>Hour_4</th>\n",
       "      <th>Hour_5</th>\n",
       "      <th>Hour_6</th>\n",
       "      <th>Hour_7</th>\n",
       "      <th>Hour_8</th>\n",
       "      <th>Hour_9</th>\n",
       "      <th>Hour_10</th>\n",
       "      <th>Hour_11</th>\n",
       "      <th>Hour_12</th>\n",
       "      <th>Hour_13</th>\n",
       "      <th>Hour_14</th>\n",
       "      <th>Hour_15</th>\n",
       "      <th>Hour_16</th>\n",
       "      <th>Hour_17</th>\n",
       "      <th>Hour_18</th>\n",
       "      <th>Hour_19</th>\n",
       "      <th>Hour_20</th>\n",
       "      <th>Hour_21</th>\n",
       "      <th>Hour_22</th>\n",
       "      <th>Rainfall_Binary_0</th>\n",
       "      <th>Rainfall_Binary_1</th>\n",
       "      <th>Snowfall_Binary_0</th>\n",
       "      <th>Snowfall_Binary_1</th>\n",
       "      <th>Rented Bike Count</th>\n",
       "    </tr>\n",
       "  </thead>\n",
       "  <tbody>\n",
       "    <tr>\n",
       "      <th>0</th>\n",
       "      <td>27.1</td>\n",
       "      <td>79</td>\n",
       "      <td>1.200000</td>\n",
       "      <td>1578</td>\n",
       "      <td>23.1</td>\n",
       "      <td>0.00</td>\n",
       "      <td>0.0</td>\n",
       "      <td>0.0</td>\n",
       "      <td>0.0</td>\n",
       "      <td>1.0</td>\n",
       "      <td>0.0</td>\n",
       "      <td>0.0</td>\n",
       "      <td>1.0</td>\n",
       "      <td>0.0</td>\n",
       "      <td>1.0</td>\n",
       "      <td>0.0</td>\n",
       "      <td>0.0</td>\n",
       "      <td>0.0</td>\n",
       "      <td>0.0</td>\n",
       "      <td>0.0</td>\n",
       "      <td>1.0</td>\n",
       "      <td>0.0</td>\n",
       "      <td>0.0</td>\n",
       "      <td>0.0</td>\n",
       "      <td>0.0</td>\n",
       "      <td>0.0</td>\n",
       "      <td>0.0</td>\n",
       "      <td>0.0</td>\n",
       "      <td>0.0</td>\n",
       "      <td>0.0</td>\n",
       "      <td>0.0</td>\n",
       "      <td>0.0</td>\n",
       "      <td>0.0</td>\n",
       "      <td>0.0</td>\n",
       "      <td>0.0</td>\n",
       "      <td>0.0</td>\n",
       "      <td>0.0</td>\n",
       "      <td>0.0</td>\n",
       "      <td>0.0</td>\n",
       "      <td>0.0</td>\n",
       "      <td>0.0</td>\n",
       "      <td>0.0</td>\n",
       "      <td>1.0</td>\n",
       "      <td>0.0</td>\n",
       "      <td>0.0</td>\n",
       "      <td>0.0</td>\n",
       "      <td>0.0</td>\n",
       "      <td>0.0</td>\n",
       "      <td>0.0</td>\n",
       "      <td>0.0</td>\n",
       "      <td>0.0</td>\n",
       "      <td>0.0</td>\n",
       "      <td>0.0</td>\n",
       "      <td>0.0</td>\n",
       "      <td>0.0</td>\n",
       "      <td>0.0</td>\n",
       "      <td>0.0</td>\n",
       "      <td>0.0</td>\n",
       "      <td>0.0</td>\n",
       "      <td>0.0</td>\n",
       "      <td>0.0</td>\n",
       "      <td>0.0</td>\n",
       "      <td>0.0</td>\n",
       "      <td>0.0</td>\n",
       "      <td>0.0</td>\n",
       "      <td>0.0</td>\n",
       "      <td>0.0</td>\n",
       "      <td>0.0</td>\n",
       "      <td>0.0</td>\n",
       "      <td>0.0</td>\n",
       "      <td>0.0</td>\n",
       "      <td>0.0</td>\n",
       "      <td>0.0</td>\n",
       "      <td>0.0</td>\n",
       "      <td>0.0</td>\n",
       "      <td>0.0</td>\n",
       "      <td>0.0</td>\n",
       "      <td>0.0</td>\n",
       "      <td>0.0</td>\n",
       "      <td>0.0</td>\n",
       "      <td>0.0</td>\n",
       "      <td>0.0</td>\n",
       "      <td>0.0</td>\n",
       "      <td>0.0</td>\n",
       "      <td>1.0</td>\n",
       "      <td>1.0</td>\n",
       "      <td>0.0</td>\n",
       "      <td>1.0</td>\n",
       "      <td>0.0</td>\n",
       "      <td>263</td>\n",
       "    </tr>\n",
       "    <tr>\n",
       "      <th>1</th>\n",
       "      <td>5.7</td>\n",
       "      <td>15</td>\n",
       "      <td>1.100000</td>\n",
       "      <td>1419</td>\n",
       "      <td>-19.0</td>\n",
       "      <td>0.98</td>\n",
       "      <td>0.0</td>\n",
       "      <td>0.0</td>\n",
       "      <td>1.0</td>\n",
       "      <td>0.0</td>\n",
       "      <td>0.0</td>\n",
       "      <td>0.0</td>\n",
       "      <td>1.0</td>\n",
       "      <td>0.0</td>\n",
       "      <td>1.0</td>\n",
       "      <td>0.0</td>\n",
       "      <td>0.0</td>\n",
       "      <td>0.0</td>\n",
       "      <td>0.0</td>\n",
       "      <td>0.0</td>\n",
       "      <td>1.0</td>\n",
       "      <td>0.0</td>\n",
       "      <td>0.0</td>\n",
       "      <td>0.0</td>\n",
       "      <td>0.0</td>\n",
       "      <td>0.0</td>\n",
       "      <td>0.0</td>\n",
       "      <td>0.0</td>\n",
       "      <td>0.0</td>\n",
       "      <td>0.0</td>\n",
       "      <td>1.0</td>\n",
       "      <td>0.0</td>\n",
       "      <td>0.0</td>\n",
       "      <td>0.0</td>\n",
       "      <td>0.0</td>\n",
       "      <td>0.0</td>\n",
       "      <td>0.0</td>\n",
       "      <td>0.0</td>\n",
       "      <td>0.0</td>\n",
       "      <td>0.0</td>\n",
       "      <td>0.0</td>\n",
       "      <td>0.0</td>\n",
       "      <td>0.0</td>\n",
       "      <td>0.0</td>\n",
       "      <td>0.0</td>\n",
       "      <td>0.0</td>\n",
       "      <td>0.0</td>\n",
       "      <td>0.0</td>\n",
       "      <td>0.0</td>\n",
       "      <td>0.0</td>\n",
       "      <td>0.0</td>\n",
       "      <td>0.0</td>\n",
       "      <td>0.0</td>\n",
       "      <td>0.0</td>\n",
       "      <td>0.0</td>\n",
       "      <td>0.0</td>\n",
       "      <td>0.0</td>\n",
       "      <td>0.0</td>\n",
       "      <td>0.0</td>\n",
       "      <td>1.0</td>\n",
       "      <td>0.0</td>\n",
       "      <td>0.0</td>\n",
       "      <td>0.0</td>\n",
       "      <td>0.0</td>\n",
       "      <td>0.0</td>\n",
       "      <td>0.0</td>\n",
       "      <td>0.0</td>\n",
       "      <td>0.0</td>\n",
       "      <td>0.0</td>\n",
       "      <td>0.0</td>\n",
       "      <td>0.0</td>\n",
       "      <td>0.0</td>\n",
       "      <td>0.0</td>\n",
       "      <td>1.0</td>\n",
       "      <td>0.0</td>\n",
       "      <td>0.0</td>\n",
       "      <td>0.0</td>\n",
       "      <td>0.0</td>\n",
       "      <td>0.0</td>\n",
       "      <td>0.0</td>\n",
       "      <td>0.0</td>\n",
       "      <td>0.0</td>\n",
       "      <td>0.0</td>\n",
       "      <td>0.0</td>\n",
       "      <td>0.0</td>\n",
       "      <td>1.0</td>\n",
       "      <td>0.0</td>\n",
       "      <td>1.0</td>\n",
       "      <td>0.0</td>\n",
       "      <td>316</td>\n",
       "    </tr>\n",
       "    <tr>\n",
       "      <th>2</th>\n",
       "      <td>19.0</td>\n",
       "      <td>21</td>\n",
       "      <td>3.300000</td>\n",
       "      <td>1716</td>\n",
       "      <td>-3.8</td>\n",
       "      <td>2.88</td>\n",
       "      <td>0.0</td>\n",
       "      <td>0.0</td>\n",
       "      <td>0.0</td>\n",
       "      <td>0.0</td>\n",
       "      <td>0.0</td>\n",
       "      <td>0.0</td>\n",
       "      <td>1.0</td>\n",
       "      <td>0.0</td>\n",
       "      <td>1.0</td>\n",
       "      <td>0.0</td>\n",
       "      <td>0.0</td>\n",
       "      <td>0.0</td>\n",
       "      <td>0.0</td>\n",
       "      <td>0.0</td>\n",
       "      <td>1.0</td>\n",
       "      <td>0.0</td>\n",
       "      <td>0.0</td>\n",
       "      <td>0.0</td>\n",
       "      <td>1.0</td>\n",
       "      <td>0.0</td>\n",
       "      <td>0.0</td>\n",
       "      <td>0.0</td>\n",
       "      <td>0.0</td>\n",
       "      <td>0.0</td>\n",
       "      <td>0.0</td>\n",
       "      <td>0.0</td>\n",
       "      <td>0.0</td>\n",
       "      <td>0.0</td>\n",
       "      <td>0.0</td>\n",
       "      <td>0.0</td>\n",
       "      <td>0.0</td>\n",
       "      <td>0.0</td>\n",
       "      <td>0.0</td>\n",
       "      <td>0.0</td>\n",
       "      <td>0.0</td>\n",
       "      <td>0.0</td>\n",
       "      <td>0.0</td>\n",
       "      <td>0.0</td>\n",
       "      <td>0.0</td>\n",
       "      <td>0.0</td>\n",
       "      <td>0.0</td>\n",
       "      <td>0.0</td>\n",
       "      <td>0.0</td>\n",
       "      <td>1.0</td>\n",
       "      <td>0.0</td>\n",
       "      <td>0.0</td>\n",
       "      <td>0.0</td>\n",
       "      <td>0.0</td>\n",
       "      <td>0.0</td>\n",
       "      <td>0.0</td>\n",
       "      <td>0.0</td>\n",
       "      <td>0.0</td>\n",
       "      <td>0.0</td>\n",
       "      <td>0.0</td>\n",
       "      <td>0.0</td>\n",
       "      <td>0.0</td>\n",
       "      <td>0.0</td>\n",
       "      <td>0.0</td>\n",
       "      <td>0.0</td>\n",
       "      <td>0.0</td>\n",
       "      <td>0.0</td>\n",
       "      <td>0.0</td>\n",
       "      <td>0.0</td>\n",
       "      <td>0.0</td>\n",
       "      <td>0.0</td>\n",
       "      <td>0.0</td>\n",
       "      <td>0.0</td>\n",
       "      <td>0.0</td>\n",
       "      <td>0.0</td>\n",
       "      <td>0.0</td>\n",
       "      <td>0.0</td>\n",
       "      <td>1.0</td>\n",
       "      <td>0.0</td>\n",
       "      <td>0.0</td>\n",
       "      <td>0.0</td>\n",
       "      <td>0.0</td>\n",
       "      <td>0.0</td>\n",
       "      <td>0.0</td>\n",
       "      <td>0.0</td>\n",
       "      <td>1.0</td>\n",
       "      <td>0.0</td>\n",
       "      <td>1.0</td>\n",
       "      <td>0.0</td>\n",
       "      <td>311</td>\n",
       "    </tr>\n",
       "    <tr>\n",
       "      <th>3</th>\n",
       "      <td>8.0</td>\n",
       "      <td>42</td>\n",
       "      <td>1.563110</td>\n",
       "      <td>1690</td>\n",
       "      <td>-4.1</td>\n",
       "      <td>1.24</td>\n",
       "      <td>0.0</td>\n",
       "      <td>0.0</td>\n",
       "      <td>0.0</td>\n",
       "      <td>0.0</td>\n",
       "      <td>0.0</td>\n",
       "      <td>0.0</td>\n",
       "      <td>1.0</td>\n",
       "      <td>0.0</td>\n",
       "      <td>1.0</td>\n",
       "      <td>1.0</td>\n",
       "      <td>0.0</td>\n",
       "      <td>0.0</td>\n",
       "      <td>0.0</td>\n",
       "      <td>0.0</td>\n",
       "      <td>0.0</td>\n",
       "      <td>0.0</td>\n",
       "      <td>0.0</td>\n",
       "      <td>1.0</td>\n",
       "      <td>0.0</td>\n",
       "      <td>0.0</td>\n",
       "      <td>0.0</td>\n",
       "      <td>0.0</td>\n",
       "      <td>0.0</td>\n",
       "      <td>0.0</td>\n",
       "      <td>0.0</td>\n",
       "      <td>0.0</td>\n",
       "      <td>0.0</td>\n",
       "      <td>0.0</td>\n",
       "      <td>0.0</td>\n",
       "      <td>0.0</td>\n",
       "      <td>0.0</td>\n",
       "      <td>0.0</td>\n",
       "      <td>0.0</td>\n",
       "      <td>0.0</td>\n",
       "      <td>1.0</td>\n",
       "      <td>0.0</td>\n",
       "      <td>0.0</td>\n",
       "      <td>0.0</td>\n",
       "      <td>0.0</td>\n",
       "      <td>0.0</td>\n",
       "      <td>0.0</td>\n",
       "      <td>0.0</td>\n",
       "      <td>0.0</td>\n",
       "      <td>0.0</td>\n",
       "      <td>0.0</td>\n",
       "      <td>0.0</td>\n",
       "      <td>0.0</td>\n",
       "      <td>0.0</td>\n",
       "      <td>0.0</td>\n",
       "      <td>0.0</td>\n",
       "      <td>0.0</td>\n",
       "      <td>0.0</td>\n",
       "      <td>0.0</td>\n",
       "      <td>0.0</td>\n",
       "      <td>0.0</td>\n",
       "      <td>0.0</td>\n",
       "      <td>0.0</td>\n",
       "      <td>0.0</td>\n",
       "      <td>0.0</td>\n",
       "      <td>0.0</td>\n",
       "      <td>0.0</td>\n",
       "      <td>0.0</td>\n",
       "      <td>0.0</td>\n",
       "      <td>0.0</td>\n",
       "      <td>0.0</td>\n",
       "      <td>0.0</td>\n",
       "      <td>0.0</td>\n",
       "      <td>0.0</td>\n",
       "      <td>0.0</td>\n",
       "      <td>0.0</td>\n",
       "      <td>1.0</td>\n",
       "      <td>0.0</td>\n",
       "      <td>0.0</td>\n",
       "      <td>0.0</td>\n",
       "      <td>0.0</td>\n",
       "      <td>0.0</td>\n",
       "      <td>0.0</td>\n",
       "      <td>0.0</td>\n",
       "      <td>0.0</td>\n",
       "      <td>1.0</td>\n",
       "      <td>0.0</td>\n",
       "      <td>1.0</td>\n",
       "      <td>0.0</td>\n",
       "      <td>363</td>\n",
       "    </tr>\n",
       "    <tr>\n",
       "      <th>4</th>\n",
       "      <td>12.2</td>\n",
       "      <td>65</td>\n",
       "      <td>1.900000</td>\n",
       "      <td>2000</td>\n",
       "      <td>5.8</td>\n",
       "      <td>0.52</td>\n",
       "      <td>0.0</td>\n",
       "      <td>0.0</td>\n",
       "      <td>1.0</td>\n",
       "      <td>0.0</td>\n",
       "      <td>0.0</td>\n",
       "      <td>0.0</td>\n",
       "      <td>1.0</td>\n",
       "      <td>0.0</td>\n",
       "      <td>1.0</td>\n",
       "      <td>0.0</td>\n",
       "      <td>0.0</td>\n",
       "      <td>0.0</td>\n",
       "      <td>1.0</td>\n",
       "      <td>0.0</td>\n",
       "      <td>0.0</td>\n",
       "      <td>0.0</td>\n",
       "      <td>0.0</td>\n",
       "      <td>0.0</td>\n",
       "      <td>0.0</td>\n",
       "      <td>0.0</td>\n",
       "      <td>0.0</td>\n",
       "      <td>0.0</td>\n",
       "      <td>0.0</td>\n",
       "      <td>1.0</td>\n",
       "      <td>0.0</td>\n",
       "      <td>0.0</td>\n",
       "      <td>0.0</td>\n",
       "      <td>0.0</td>\n",
       "      <td>0.0</td>\n",
       "      <td>0.0</td>\n",
       "      <td>0.0</td>\n",
       "      <td>0.0</td>\n",
       "      <td>0.0</td>\n",
       "      <td>0.0</td>\n",
       "      <td>0.0</td>\n",
       "      <td>0.0</td>\n",
       "      <td>0.0</td>\n",
       "      <td>0.0</td>\n",
       "      <td>0.0</td>\n",
       "      <td>0.0</td>\n",
       "      <td>0.0</td>\n",
       "      <td>0.0</td>\n",
       "      <td>0.0</td>\n",
       "      <td>0.0</td>\n",
       "      <td>0.0</td>\n",
       "      <td>0.0</td>\n",
       "      <td>0.0</td>\n",
       "      <td>0.0</td>\n",
       "      <td>0.0</td>\n",
       "      <td>0.0</td>\n",
       "      <td>0.0</td>\n",
       "      <td>0.0</td>\n",
       "      <td>0.0</td>\n",
       "      <td>1.0</td>\n",
       "      <td>0.0</td>\n",
       "      <td>0.0</td>\n",
       "      <td>0.0</td>\n",
       "      <td>0.0</td>\n",
       "      <td>0.0</td>\n",
       "      <td>0.0</td>\n",
       "      <td>0.0</td>\n",
       "      <td>0.0</td>\n",
       "      <td>0.0</td>\n",
       "      <td>0.0</td>\n",
       "      <td>0.0</td>\n",
       "      <td>0.0</td>\n",
       "      <td>0.0</td>\n",
       "      <td>0.0</td>\n",
       "      <td>0.0</td>\n",
       "      <td>0.0</td>\n",
       "      <td>0.0</td>\n",
       "      <td>0.0</td>\n",
       "      <td>1.0</td>\n",
       "      <td>0.0</td>\n",
       "      <td>0.0</td>\n",
       "      <td>0.0</td>\n",
       "      <td>0.0</td>\n",
       "      <td>0.0</td>\n",
       "      <td>0.0</td>\n",
       "      <td>1.0</td>\n",
       "      <td>0.0</td>\n",
       "      <td>1.0</td>\n",
       "      <td>0.0</td>\n",
       "      <td>233</td>\n",
       "    </tr>\n",
       "    <tr>\n",
       "      <th>...</th>\n",
       "      <td>...</td>\n",
       "      <td>...</td>\n",
       "      <td>...</td>\n",
       "      <td>...</td>\n",
       "      <td>...</td>\n",
       "      <td>...</td>\n",
       "      <td>...</td>\n",
       "      <td>...</td>\n",
       "      <td>...</td>\n",
       "      <td>...</td>\n",
       "      <td>...</td>\n",
       "      <td>...</td>\n",
       "      <td>...</td>\n",
       "      <td>...</td>\n",
       "      <td>...</td>\n",
       "      <td>...</td>\n",
       "      <td>...</td>\n",
       "      <td>...</td>\n",
       "      <td>...</td>\n",
       "      <td>...</td>\n",
       "      <td>...</td>\n",
       "      <td>...</td>\n",
       "      <td>...</td>\n",
       "      <td>...</td>\n",
       "      <td>...</td>\n",
       "      <td>...</td>\n",
       "      <td>...</td>\n",
       "      <td>...</td>\n",
       "      <td>...</td>\n",
       "      <td>...</td>\n",
       "      <td>...</td>\n",
       "      <td>...</td>\n",
       "      <td>...</td>\n",
       "      <td>...</td>\n",
       "      <td>...</td>\n",
       "      <td>...</td>\n",
       "      <td>...</td>\n",
       "      <td>...</td>\n",
       "      <td>...</td>\n",
       "      <td>...</td>\n",
       "      <td>...</td>\n",
       "      <td>...</td>\n",
       "      <td>...</td>\n",
       "      <td>...</td>\n",
       "      <td>...</td>\n",
       "      <td>...</td>\n",
       "      <td>...</td>\n",
       "      <td>...</td>\n",
       "      <td>...</td>\n",
       "      <td>...</td>\n",
       "      <td>...</td>\n",
       "      <td>...</td>\n",
       "      <td>...</td>\n",
       "      <td>...</td>\n",
       "      <td>...</td>\n",
       "      <td>...</td>\n",
       "      <td>...</td>\n",
       "      <td>...</td>\n",
       "      <td>...</td>\n",
       "      <td>...</td>\n",
       "      <td>...</td>\n",
       "      <td>...</td>\n",
       "      <td>...</td>\n",
       "      <td>...</td>\n",
       "      <td>...</td>\n",
       "      <td>...</td>\n",
       "      <td>...</td>\n",
       "      <td>...</td>\n",
       "      <td>...</td>\n",
       "      <td>...</td>\n",
       "      <td>...</td>\n",
       "      <td>...</td>\n",
       "      <td>...</td>\n",
       "      <td>...</td>\n",
       "      <td>...</td>\n",
       "      <td>...</td>\n",
       "      <td>...</td>\n",
       "      <td>...</td>\n",
       "      <td>...</td>\n",
       "      <td>...</td>\n",
       "      <td>...</td>\n",
       "      <td>...</td>\n",
       "      <td>...</td>\n",
       "      <td>...</td>\n",
       "      <td>...</td>\n",
       "      <td>...</td>\n",
       "      <td>...</td>\n",
       "      <td>...</td>\n",
       "      <td>...</td>\n",
       "      <td>...</td>\n",
       "    </tr>\n",
       "    <tr>\n",
       "      <th>1747</th>\n",
       "      <td>15.3</td>\n",
       "      <td>60</td>\n",
       "      <td>2.000000</td>\n",
       "      <td>2000</td>\n",
       "      <td>7.5</td>\n",
       "      <td>0.35</td>\n",
       "      <td>0.0</td>\n",
       "      <td>0.0</td>\n",
       "      <td>0.0</td>\n",
       "      <td>0.0</td>\n",
       "      <td>0.0</td>\n",
       "      <td>0.0</td>\n",
       "      <td>1.0</td>\n",
       "      <td>0.0</td>\n",
       "      <td>1.0</td>\n",
       "      <td>0.0</td>\n",
       "      <td>0.0</td>\n",
       "      <td>0.0</td>\n",
       "      <td>0.0</td>\n",
       "      <td>1.0</td>\n",
       "      <td>0.0</td>\n",
       "      <td>0.0</td>\n",
       "      <td>0.0</td>\n",
       "      <td>0.0</td>\n",
       "      <td>0.0</td>\n",
       "      <td>1.0</td>\n",
       "      <td>0.0</td>\n",
       "      <td>0.0</td>\n",
       "      <td>0.0</td>\n",
       "      <td>0.0</td>\n",
       "      <td>0.0</td>\n",
       "      <td>0.0</td>\n",
       "      <td>0.0</td>\n",
       "      <td>0.0</td>\n",
       "      <td>0.0</td>\n",
       "      <td>0.0</td>\n",
       "      <td>0.0</td>\n",
       "      <td>0.0</td>\n",
       "      <td>0.0</td>\n",
       "      <td>1.0</td>\n",
       "      <td>0.0</td>\n",
       "      <td>0.0</td>\n",
       "      <td>0.0</td>\n",
       "      <td>0.0</td>\n",
       "      <td>0.0</td>\n",
       "      <td>0.0</td>\n",
       "      <td>0.0</td>\n",
       "      <td>0.0</td>\n",
       "      <td>0.0</td>\n",
       "      <td>0.0</td>\n",
       "      <td>0.0</td>\n",
       "      <td>0.0</td>\n",
       "      <td>0.0</td>\n",
       "      <td>0.0</td>\n",
       "      <td>0.0</td>\n",
       "      <td>0.0</td>\n",
       "      <td>0.0</td>\n",
       "      <td>0.0</td>\n",
       "      <td>0.0</td>\n",
       "      <td>0.0</td>\n",
       "      <td>0.0</td>\n",
       "      <td>0.0</td>\n",
       "      <td>0.0</td>\n",
       "      <td>0.0</td>\n",
       "      <td>0.0</td>\n",
       "      <td>0.0</td>\n",
       "      <td>0.0</td>\n",
       "      <td>0.0</td>\n",
       "      <td>0.0</td>\n",
       "      <td>1.0</td>\n",
       "      <td>0.0</td>\n",
       "      <td>0.0</td>\n",
       "      <td>0.0</td>\n",
       "      <td>0.0</td>\n",
       "      <td>0.0</td>\n",
       "      <td>0.0</td>\n",
       "      <td>0.0</td>\n",
       "      <td>0.0</td>\n",
       "      <td>0.0</td>\n",
       "      <td>0.0</td>\n",
       "      <td>0.0</td>\n",
       "      <td>0.0</td>\n",
       "      <td>0.0</td>\n",
       "      <td>0.0</td>\n",
       "      <td>0.0</td>\n",
       "      <td>1.0</td>\n",
       "      <td>0.0</td>\n",
       "      <td>1.0</td>\n",
       "      <td>0.0</td>\n",
       "      <td>283</td>\n",
       "    </tr>\n",
       "    <tr>\n",
       "      <th>1748</th>\n",
       "      <td>8.5</td>\n",
       "      <td>59</td>\n",
       "      <td>2.700000</td>\n",
       "      <td>1927</td>\n",
       "      <td>0.9</td>\n",
       "      <td>0.16</td>\n",
       "      <td>0.0</td>\n",
       "      <td>0.0</td>\n",
       "      <td>0.0</td>\n",
       "      <td>0.0</td>\n",
       "      <td>0.0</td>\n",
       "      <td>0.0</td>\n",
       "      <td>1.0</td>\n",
       "      <td>0.0</td>\n",
       "      <td>1.0</td>\n",
       "      <td>0.0</td>\n",
       "      <td>1.0</td>\n",
       "      <td>0.0</td>\n",
       "      <td>0.0</td>\n",
       "      <td>0.0</td>\n",
       "      <td>0.0</td>\n",
       "      <td>0.0</td>\n",
       "      <td>0.0</td>\n",
       "      <td>1.0</td>\n",
       "      <td>0.0</td>\n",
       "      <td>0.0</td>\n",
       "      <td>0.0</td>\n",
       "      <td>0.0</td>\n",
       "      <td>0.0</td>\n",
       "      <td>0.0</td>\n",
       "      <td>0.0</td>\n",
       "      <td>0.0</td>\n",
       "      <td>0.0</td>\n",
       "      <td>0.0</td>\n",
       "      <td>0.0</td>\n",
       "      <td>0.0</td>\n",
       "      <td>0.0</td>\n",
       "      <td>0.0</td>\n",
       "      <td>0.0</td>\n",
       "      <td>0.0</td>\n",
       "      <td>0.0</td>\n",
       "      <td>0.0</td>\n",
       "      <td>0.0</td>\n",
       "      <td>0.0</td>\n",
       "      <td>0.0</td>\n",
       "      <td>0.0</td>\n",
       "      <td>0.0</td>\n",
       "      <td>0.0</td>\n",
       "      <td>0.0</td>\n",
       "      <td>0.0</td>\n",
       "      <td>1.0</td>\n",
       "      <td>0.0</td>\n",
       "      <td>0.0</td>\n",
       "      <td>0.0</td>\n",
       "      <td>0.0</td>\n",
       "      <td>0.0</td>\n",
       "      <td>0.0</td>\n",
       "      <td>0.0</td>\n",
       "      <td>0.0</td>\n",
       "      <td>0.0</td>\n",
       "      <td>0.0</td>\n",
       "      <td>0.0</td>\n",
       "      <td>0.0</td>\n",
       "      <td>0.0</td>\n",
       "      <td>0.0</td>\n",
       "      <td>0.0</td>\n",
       "      <td>0.0</td>\n",
       "      <td>0.0</td>\n",
       "      <td>0.0</td>\n",
       "      <td>0.0</td>\n",
       "      <td>0.0</td>\n",
       "      <td>0.0</td>\n",
       "      <td>0.0</td>\n",
       "      <td>0.0</td>\n",
       "      <td>0.0</td>\n",
       "      <td>0.0</td>\n",
       "      <td>0.0</td>\n",
       "      <td>0.0</td>\n",
       "      <td>0.0</td>\n",
       "      <td>1.0</td>\n",
       "      <td>0.0</td>\n",
       "      <td>0.0</td>\n",
       "      <td>0.0</td>\n",
       "      <td>0.0</td>\n",
       "      <td>0.0</td>\n",
       "      <td>1.0</td>\n",
       "      <td>0.0</td>\n",
       "      <td>1.0</td>\n",
       "      <td>0.0</td>\n",
       "      <td>224</td>\n",
       "    </tr>\n",
       "    <tr>\n",
       "      <th>1749</th>\n",
       "      <td>21.3</td>\n",
       "      <td>53</td>\n",
       "      <td>1.800000</td>\n",
       "      <td>2000</td>\n",
       "      <td>11.3</td>\n",
       "      <td>0.00</td>\n",
       "      <td>0.0</td>\n",
       "      <td>0.0</td>\n",
       "      <td>1.0</td>\n",
       "      <td>0.0</td>\n",
       "      <td>0.0</td>\n",
       "      <td>0.0</td>\n",
       "      <td>1.0</td>\n",
       "      <td>1.0</td>\n",
       "      <td>0.0</td>\n",
       "      <td>0.0</td>\n",
       "      <td>0.0</td>\n",
       "      <td>0.0</td>\n",
       "      <td>0.0</td>\n",
       "      <td>0.0</td>\n",
       "      <td>0.0</td>\n",
       "      <td>0.0</td>\n",
       "      <td>0.0</td>\n",
       "      <td>0.0</td>\n",
       "      <td>0.0</td>\n",
       "      <td>0.0</td>\n",
       "      <td>0.0</td>\n",
       "      <td>0.0</td>\n",
       "      <td>0.0</td>\n",
       "      <td>1.0</td>\n",
       "      <td>0.0</td>\n",
       "      <td>0.0</td>\n",
       "      <td>0.0</td>\n",
       "      <td>0.0</td>\n",
       "      <td>0.0</td>\n",
       "      <td>1.0</td>\n",
       "      <td>0.0</td>\n",
       "      <td>0.0</td>\n",
       "      <td>0.0</td>\n",
       "      <td>0.0</td>\n",
       "      <td>0.0</td>\n",
       "      <td>0.0</td>\n",
       "      <td>0.0</td>\n",
       "      <td>0.0</td>\n",
       "      <td>0.0</td>\n",
       "      <td>0.0</td>\n",
       "      <td>0.0</td>\n",
       "      <td>0.0</td>\n",
       "      <td>0.0</td>\n",
       "      <td>0.0</td>\n",
       "      <td>0.0</td>\n",
       "      <td>0.0</td>\n",
       "      <td>0.0</td>\n",
       "      <td>0.0</td>\n",
       "      <td>0.0</td>\n",
       "      <td>0.0</td>\n",
       "      <td>0.0</td>\n",
       "      <td>0.0</td>\n",
       "      <td>0.0</td>\n",
       "      <td>0.0</td>\n",
       "      <td>0.0</td>\n",
       "      <td>0.0</td>\n",
       "      <td>0.0</td>\n",
       "      <td>0.0</td>\n",
       "      <td>0.0</td>\n",
       "      <td>0.0</td>\n",
       "      <td>0.0</td>\n",
       "      <td>0.0</td>\n",
       "      <td>0.0</td>\n",
       "      <td>0.0</td>\n",
       "      <td>0.0</td>\n",
       "      <td>0.0</td>\n",
       "      <td>0.0</td>\n",
       "      <td>0.0</td>\n",
       "      <td>0.0</td>\n",
       "      <td>0.0</td>\n",
       "      <td>0.0</td>\n",
       "      <td>0.0</td>\n",
       "      <td>0.0</td>\n",
       "      <td>0.0</td>\n",
       "      <td>0.0</td>\n",
       "      <td>0.0</td>\n",
       "      <td>1.0</td>\n",
       "      <td>0.0</td>\n",
       "      <td>0.0</td>\n",
       "      <td>1.0</td>\n",
       "      <td>0.0</td>\n",
       "      <td>1.0</td>\n",
       "      <td>0.0</td>\n",
       "      <td>0</td>\n",
       "    </tr>\n",
       "    <tr>\n",
       "      <th>1750</th>\n",
       "      <td>19.2</td>\n",
       "      <td>31</td>\n",
       "      <td>0.500000</td>\n",
       "      <td>1994</td>\n",
       "      <td>1.6</td>\n",
       "      <td>2.40</td>\n",
       "      <td>0.0</td>\n",
       "      <td>0.0</td>\n",
       "      <td>1.0</td>\n",
       "      <td>0.0</td>\n",
       "      <td>0.0</td>\n",
       "      <td>0.0</td>\n",
       "      <td>1.0</td>\n",
       "      <td>0.0</td>\n",
       "      <td>1.0</td>\n",
       "      <td>0.0</td>\n",
       "      <td>1.0</td>\n",
       "      <td>0.0</td>\n",
       "      <td>0.0</td>\n",
       "      <td>0.0</td>\n",
       "      <td>0.0</td>\n",
       "      <td>0.0</td>\n",
       "      <td>0.0</td>\n",
       "      <td>0.0</td>\n",
       "      <td>0.0</td>\n",
       "      <td>0.0</td>\n",
       "      <td>0.0</td>\n",
       "      <td>0.0</td>\n",
       "      <td>0.0</td>\n",
       "      <td>1.0</td>\n",
       "      <td>0.0</td>\n",
       "      <td>0.0</td>\n",
       "      <td>0.0</td>\n",
       "      <td>0.0</td>\n",
       "      <td>0.0</td>\n",
       "      <td>0.0</td>\n",
       "      <td>0.0</td>\n",
       "      <td>0.0</td>\n",
       "      <td>0.0</td>\n",
       "      <td>1.0</td>\n",
       "      <td>0.0</td>\n",
       "      <td>0.0</td>\n",
       "      <td>0.0</td>\n",
       "      <td>0.0</td>\n",
       "      <td>0.0</td>\n",
       "      <td>0.0</td>\n",
       "      <td>0.0</td>\n",
       "      <td>0.0</td>\n",
       "      <td>0.0</td>\n",
       "      <td>0.0</td>\n",
       "      <td>0.0</td>\n",
       "      <td>0.0</td>\n",
       "      <td>0.0</td>\n",
       "      <td>0.0</td>\n",
       "      <td>0.0</td>\n",
       "      <td>0.0</td>\n",
       "      <td>0.0</td>\n",
       "      <td>0.0</td>\n",
       "      <td>0.0</td>\n",
       "      <td>0.0</td>\n",
       "      <td>0.0</td>\n",
       "      <td>0.0</td>\n",
       "      <td>0.0</td>\n",
       "      <td>0.0</td>\n",
       "      <td>0.0</td>\n",
       "      <td>0.0</td>\n",
       "      <td>0.0</td>\n",
       "      <td>0.0</td>\n",
       "      <td>0.0</td>\n",
       "      <td>0.0</td>\n",
       "      <td>0.0</td>\n",
       "      <td>0.0</td>\n",
       "      <td>0.0</td>\n",
       "      <td>0.0</td>\n",
       "      <td>1.0</td>\n",
       "      <td>0.0</td>\n",
       "      <td>0.0</td>\n",
       "      <td>0.0</td>\n",
       "      <td>0.0</td>\n",
       "      <td>0.0</td>\n",
       "      <td>0.0</td>\n",
       "      <td>0.0</td>\n",
       "      <td>0.0</td>\n",
       "      <td>0.0</td>\n",
       "      <td>0.0</td>\n",
       "      <td>1.0</td>\n",
       "      <td>0.0</td>\n",
       "      <td>1.0</td>\n",
       "      <td>0.0</td>\n",
       "      <td>319</td>\n",
       "    </tr>\n",
       "    <tr>\n",
       "      <th>1751</th>\n",
       "      <td>33.7</td>\n",
       "      <td>41</td>\n",
       "      <td>1.283039</td>\n",
       "      <td>1924</td>\n",
       "      <td>18.6</td>\n",
       "      <td>3.04</td>\n",
       "      <td>0.0</td>\n",
       "      <td>0.0</td>\n",
       "      <td>0.0</td>\n",
       "      <td>1.0</td>\n",
       "      <td>0.0</td>\n",
       "      <td>0.0</td>\n",
       "      <td>1.0</td>\n",
       "      <td>0.0</td>\n",
       "      <td>1.0</td>\n",
       "      <td>0.0</td>\n",
       "      <td>0.0</td>\n",
       "      <td>0.0</td>\n",
       "      <td>0.0</td>\n",
       "      <td>0.0</td>\n",
       "      <td>0.0</td>\n",
       "      <td>0.0</td>\n",
       "      <td>0.0</td>\n",
       "      <td>0.0</td>\n",
       "      <td>0.0</td>\n",
       "      <td>0.0</td>\n",
       "      <td>0.0</td>\n",
       "      <td>0.0</td>\n",
       "      <td>0.0</td>\n",
       "      <td>0.0</td>\n",
       "      <td>0.0</td>\n",
       "      <td>0.0</td>\n",
       "      <td>0.0</td>\n",
       "      <td>0.0</td>\n",
       "      <td>0.0</td>\n",
       "      <td>0.0</td>\n",
       "      <td>0.0</td>\n",
       "      <td>0.0</td>\n",
       "      <td>0.0</td>\n",
       "      <td>0.0</td>\n",
       "      <td>0.0</td>\n",
       "      <td>0.0</td>\n",
       "      <td>0.0</td>\n",
       "      <td>0.0</td>\n",
       "      <td>0.0</td>\n",
       "      <td>0.0</td>\n",
       "      <td>0.0</td>\n",
       "      <td>0.0</td>\n",
       "      <td>0.0</td>\n",
       "      <td>0.0</td>\n",
       "      <td>1.0</td>\n",
       "      <td>0.0</td>\n",
       "      <td>0.0</td>\n",
       "      <td>0.0</td>\n",
       "      <td>0.0</td>\n",
       "      <td>0.0</td>\n",
       "      <td>0.0</td>\n",
       "      <td>0.0</td>\n",
       "      <td>0.0</td>\n",
       "      <td>0.0</td>\n",
       "      <td>0.0</td>\n",
       "      <td>0.0</td>\n",
       "      <td>0.0</td>\n",
       "      <td>0.0</td>\n",
       "      <td>0.0</td>\n",
       "      <td>0.0</td>\n",
       "      <td>0.0</td>\n",
       "      <td>0.0</td>\n",
       "      <td>0.0</td>\n",
       "      <td>0.0</td>\n",
       "      <td>0.0</td>\n",
       "      <td>0.0</td>\n",
       "      <td>0.0</td>\n",
       "      <td>0.0</td>\n",
       "      <td>0.0</td>\n",
       "      <td>0.0</td>\n",
       "      <td>0.0</td>\n",
       "      <td>1.0</td>\n",
       "      <td>0.0</td>\n",
       "      <td>0.0</td>\n",
       "      <td>0.0</td>\n",
       "      <td>0.0</td>\n",
       "      <td>0.0</td>\n",
       "      <td>0.0</td>\n",
       "      <td>0.0</td>\n",
       "      <td>1.0</td>\n",
       "      <td>0.0</td>\n",
       "      <td>1.0</td>\n",
       "      <td>0.0</td>\n",
       "      <td>277</td>\n",
       "    </tr>\n",
       "  </tbody>\n",
       "</table>\n",
       "<p>1752 rows × 90 columns</p>\n",
       "</div>"
      ],
      "text/plain": [
       "      Temperature  Humidity  Wind speed  Visibility  Dew point temperature  \\\n",
       "0            27.1        79    1.200000        1578                   23.1   \n",
       "1             5.7        15    1.100000        1419                  -19.0   \n",
       "2            19.0        21    3.300000        1716                   -3.8   \n",
       "3             8.0        42    1.563110        1690                   -4.1   \n",
       "4            12.2        65    1.900000        2000                    5.8   \n",
       "...           ...       ...         ...         ...                    ...   \n",
       "1747         15.3        60    2.000000        2000                    7.5   \n",
       "1748          8.5        59    2.700000        1927                    0.9   \n",
       "1749         21.3        53    1.800000        2000                   11.3   \n",
       "1750         19.2        31    0.500000        1994                    1.6   \n",
       "1751         33.7        41    1.283039        1924                   18.6   \n",
       "\n",
       "      Solar Radiation  Rainfall  Snowfall  Seasons_Autumn  Seasons_Summer  \\\n",
       "0                0.00       0.0       0.0             0.0             1.0   \n",
       "1                0.98       0.0       0.0             1.0             0.0   \n",
       "2                2.88       0.0       0.0             0.0             0.0   \n",
       "3                1.24       0.0       0.0             0.0             0.0   \n",
       "4                0.52       0.0       0.0             1.0             0.0   \n",
       "...               ...       ...       ...             ...             ...   \n",
       "1747             0.35       0.0       0.0             0.0             0.0   \n",
       "1748             0.16       0.0       0.0             0.0             0.0   \n",
       "1749             0.00       0.0       0.0             1.0             0.0   \n",
       "1750             2.40       0.0       0.0             1.0             0.0   \n",
       "1751             3.04       0.0       0.0             0.0             1.0   \n",
       "\n",
       "      Seasons_Winter  Holiday_Holiday  Holiday_No Holiday  Functioning Day_No  \\\n",
       "0                0.0              0.0                 1.0                 0.0   \n",
       "1                0.0              0.0                 1.0                 0.0   \n",
       "2                0.0              0.0                 1.0                 0.0   \n",
       "3                0.0              0.0                 1.0                 0.0   \n",
       "4                0.0              0.0                 1.0                 0.0   \n",
       "...              ...              ...                 ...                 ...   \n",
       "1747             0.0              0.0                 1.0                 0.0   \n",
       "1748             0.0              0.0                 1.0                 0.0   \n",
       "1749             0.0              0.0                 1.0                 1.0   \n",
       "1750             0.0              0.0                 1.0                 0.0   \n",
       "1751             0.0              0.0                 1.0                 0.0   \n",
       "\n",
       "      Functioning Day_Yes  week_Friday  week_Monday  week_Saturday  \\\n",
       "0                     1.0          0.0          0.0            0.0   \n",
       "1                     1.0          0.0          0.0            0.0   \n",
       "2                     1.0          0.0          0.0            0.0   \n",
       "3                     1.0          1.0          0.0            0.0   \n",
       "4                     1.0          0.0          0.0            0.0   \n",
       "...                   ...          ...          ...            ...   \n",
       "1747                  1.0          0.0          0.0            0.0   \n",
       "1748                  1.0          0.0          1.0            0.0   \n",
       "1749                  0.0          0.0          0.0            0.0   \n",
       "1750                  1.0          0.0          1.0            0.0   \n",
       "1751                  1.0          0.0          0.0            0.0   \n",
       "\n",
       "      week_Sunday  week_Tuesday  week_Wednesday  month_1  month_2  month_3  \\\n",
       "0             0.0           0.0             1.0      0.0      0.0      0.0   \n",
       "1             0.0           0.0             1.0      0.0      0.0      0.0   \n",
       "2             0.0           0.0             1.0      0.0      0.0      0.0   \n",
       "3             0.0           0.0             0.0      0.0      0.0      1.0   \n",
       "4             1.0           0.0             0.0      0.0      0.0      0.0   \n",
       "...           ...           ...             ...      ...      ...      ...   \n",
       "1747          0.0           1.0             0.0      0.0      0.0      0.0   \n",
       "1748          0.0           0.0             0.0      0.0      0.0      1.0   \n",
       "1749          0.0           0.0             0.0      0.0      0.0      0.0   \n",
       "1750          0.0           0.0             0.0      0.0      0.0      0.0   \n",
       "1751          0.0           0.0             0.0      0.0      0.0      0.0   \n",
       "\n",
       "      month_4  month_5  month_6  month_8  month_9  month_10  month_11  \\\n",
       "0         0.0      0.0      0.0      0.0      0.0       0.0       0.0   \n",
       "1         0.0      0.0      0.0      0.0      0.0       0.0       1.0   \n",
       "2         1.0      0.0      0.0      0.0      0.0       0.0       0.0   \n",
       "3         0.0      0.0      0.0      0.0      0.0       0.0       0.0   \n",
       "4         0.0      0.0      0.0      0.0      0.0       1.0       0.0   \n",
       "...       ...      ...      ...      ...      ...       ...       ...   \n",
       "1747      0.0      1.0      0.0      0.0      0.0       0.0       0.0   \n",
       "1748      0.0      0.0      0.0      0.0      0.0       0.0       0.0   \n",
       "1749      0.0      0.0      0.0      0.0      0.0       1.0       0.0   \n",
       "1750      0.0      0.0      0.0      0.0      0.0       1.0       0.0   \n",
       "1751      0.0      0.0      0.0      0.0      0.0       0.0       0.0   \n",
       "\n",
       "      month_12  day_1  day_2  day_3  day_4  day_5  day_6  day_7  day_8  day_9  \\\n",
       "0          0.0    0.0    0.0    0.0    0.0    0.0    0.0    0.0    0.0    0.0   \n",
       "1          0.0    0.0    0.0    0.0    0.0    0.0    0.0    0.0    0.0    0.0   \n",
       "2          0.0    0.0    0.0    0.0    0.0    0.0    0.0    0.0    0.0    0.0   \n",
       "3          0.0    0.0    0.0    0.0    0.0    0.0    0.0    0.0    0.0    1.0   \n",
       "4          0.0    0.0    0.0    0.0    0.0    0.0    0.0    0.0    0.0    0.0   \n",
       "...        ...    ...    ...    ...    ...    ...    ...    ...    ...    ...   \n",
       "1747       0.0    0.0    0.0    0.0    0.0    0.0    0.0    0.0    1.0    0.0   \n",
       "1748       0.0    0.0    0.0    0.0    0.0    0.0    0.0    0.0    0.0    0.0   \n",
       "1749       0.0    0.0    0.0    0.0    1.0    0.0    0.0    0.0    0.0    0.0   \n",
       "1750       0.0    0.0    0.0    0.0    0.0    0.0    0.0    0.0    1.0    0.0   \n",
       "1751       0.0    0.0    0.0    0.0    0.0    0.0    0.0    0.0    0.0    0.0   \n",
       "\n",
       "      day_10  day_11  day_12  day_13  day_14  day_15  day_16  day_17  day_18  \\\n",
       "0        0.0     1.0     0.0     0.0     0.0     0.0     0.0     0.0     0.0   \n",
       "1        0.0     0.0     0.0     0.0     0.0     0.0     0.0     0.0     0.0   \n",
       "2        0.0     0.0     0.0     0.0     0.0     0.0     0.0     0.0     1.0   \n",
       "3        0.0     0.0     0.0     0.0     0.0     0.0     0.0     0.0     0.0   \n",
       "4        0.0     0.0     0.0     0.0     0.0     0.0     0.0     0.0     0.0   \n",
       "...      ...     ...     ...     ...     ...     ...     ...     ...     ...   \n",
       "1747     0.0     0.0     0.0     0.0     0.0     0.0     0.0     0.0     0.0   \n",
       "1748     0.0     0.0     0.0     0.0     0.0     0.0     0.0     0.0     0.0   \n",
       "1749     0.0     0.0     0.0     0.0     0.0     0.0     0.0     0.0     0.0   \n",
       "1750     0.0     0.0     0.0     0.0     0.0     0.0     0.0     0.0     0.0   \n",
       "1751     0.0     0.0     0.0     0.0     0.0     0.0     0.0     0.0     0.0   \n",
       "\n",
       "      day_19  day_20  day_21  day_22  day_23  day_24  day_25  day_26  day_27  \\\n",
       "0        0.0     0.0     0.0     0.0     0.0     0.0     0.0     0.0     0.0   \n",
       "1        0.0     0.0     0.0     0.0     0.0     0.0     0.0     0.0     0.0   \n",
       "2        0.0     0.0     0.0     0.0     0.0     0.0     0.0     0.0     0.0   \n",
       "3        0.0     0.0     0.0     0.0     0.0     0.0     0.0     0.0     0.0   \n",
       "4        0.0     0.0     0.0     0.0     0.0     0.0     0.0     0.0     0.0   \n",
       "...      ...     ...     ...     ...     ...     ...     ...     ...     ...   \n",
       "1747     0.0     0.0     0.0     0.0     0.0     0.0     0.0     0.0     0.0   \n",
       "1748     1.0     0.0     0.0     0.0     0.0     0.0     0.0     0.0     0.0   \n",
       "1749     0.0     0.0     0.0     0.0     0.0     0.0     0.0     0.0     0.0   \n",
       "1750     0.0     0.0     0.0     0.0     0.0     0.0     0.0     0.0     0.0   \n",
       "1751     1.0     0.0     0.0     0.0     0.0     0.0     0.0     0.0     0.0   \n",
       "\n",
       "      day_28  day_29  day_30  Hour_0  Hour_1  Hour_2  Hour_3  Hour_4  Hour_5  \\\n",
       "0        0.0     0.0     0.0     0.0     0.0     0.0     0.0     0.0     0.0   \n",
       "1        1.0     0.0     0.0     0.0     0.0     0.0     0.0     0.0     0.0   \n",
       "2        0.0     0.0     0.0     0.0     0.0     0.0     0.0     0.0     0.0   \n",
       "3        0.0     0.0     0.0     0.0     0.0     0.0     0.0     0.0     0.0   \n",
       "4        1.0     0.0     0.0     0.0     0.0     0.0     0.0     0.0     0.0   \n",
       "...      ...     ...     ...     ...     ...     ...     ...     ...     ...   \n",
       "1747     0.0     0.0     0.0     0.0     0.0     0.0     0.0     0.0     0.0   \n",
       "1748     0.0     0.0     0.0     0.0     0.0     0.0     0.0     0.0     0.0   \n",
       "1749     0.0     0.0     0.0     0.0     0.0     0.0     0.0     0.0     0.0   \n",
       "1750     0.0     0.0     0.0     0.0     0.0     0.0     0.0     0.0     0.0   \n",
       "1751     0.0     0.0     0.0     0.0     0.0     0.0     0.0     0.0     0.0   \n",
       "\n",
       "      Hour_6  Hour_7  Hour_8  Hour_9  Hour_10  Hour_11  Hour_12  Hour_13  \\\n",
       "0        0.0     0.0     0.0     0.0      0.0      0.0      0.0      0.0   \n",
       "1        0.0     0.0     0.0     0.0      0.0      1.0      0.0      0.0   \n",
       "2        0.0     0.0     0.0     0.0      0.0      0.0      0.0      0.0   \n",
       "3        0.0     0.0     0.0     0.0      0.0      0.0      0.0      0.0   \n",
       "4        0.0     0.0     0.0     0.0      0.0      0.0      0.0      0.0   \n",
       "...      ...     ...     ...     ...      ...      ...      ...      ...   \n",
       "1747     0.0     1.0     0.0     0.0      0.0      0.0      0.0      0.0   \n",
       "1748     0.0     0.0     0.0     0.0      0.0      0.0      0.0      0.0   \n",
       "1749     0.0     0.0     0.0     0.0      0.0      0.0      0.0      0.0   \n",
       "1750     0.0     0.0     0.0     0.0      0.0      0.0      1.0      0.0   \n",
       "1751     0.0     0.0     0.0     0.0      0.0      0.0      0.0      0.0   \n",
       "\n",
       "      Hour_14  Hour_15  Hour_16  Hour_17  Hour_18  Hour_19  Hour_20  Hour_21  \\\n",
       "0         0.0      0.0      0.0      0.0      0.0      0.0      0.0      0.0   \n",
       "1         0.0      0.0      0.0      0.0      0.0      0.0      0.0      0.0   \n",
       "2         0.0      1.0      0.0      0.0      0.0      0.0      0.0      0.0   \n",
       "3         1.0      0.0      0.0      0.0      0.0      0.0      0.0      0.0   \n",
       "4         0.0      0.0      1.0      0.0      0.0      0.0      0.0      0.0   \n",
       "...       ...      ...      ...      ...      ...      ...      ...      ...   \n",
       "1747      0.0      0.0      0.0      0.0      0.0      0.0      0.0      0.0   \n",
       "1748      0.0      0.0      0.0      1.0      0.0      0.0      0.0      0.0   \n",
       "1749      0.0      0.0      0.0      0.0      0.0      0.0      1.0      0.0   \n",
       "1750      0.0      0.0      0.0      0.0      0.0      0.0      0.0      0.0   \n",
       "1751      0.0      1.0      0.0      0.0      0.0      0.0      0.0      0.0   \n",
       "\n",
       "      Hour_22  Rainfall_Binary_0  Rainfall_Binary_1  Snowfall_Binary_0  \\\n",
       "0         1.0                1.0                0.0                1.0   \n",
       "1         0.0                1.0                0.0                1.0   \n",
       "2         0.0                1.0                0.0                1.0   \n",
       "3         0.0                1.0                0.0                1.0   \n",
       "4         0.0                1.0                0.0                1.0   \n",
       "...       ...                ...                ...                ...   \n",
       "1747      0.0                1.0                0.0                1.0   \n",
       "1748      0.0                1.0                0.0                1.0   \n",
       "1749      0.0                1.0                0.0                1.0   \n",
       "1750      0.0                1.0                0.0                1.0   \n",
       "1751      0.0                1.0                0.0                1.0   \n",
       "\n",
       "      Snowfall_Binary_1  Rented Bike Count  \n",
       "0                   0.0                263  \n",
       "1                   0.0                316  \n",
       "2                   0.0                311  \n",
       "3                   0.0                363  \n",
       "4                   0.0                233  \n",
       "...                 ...                ...  \n",
       "1747                0.0                283  \n",
       "1748                0.0                224  \n",
       "1749                0.0                  0  \n",
       "1750                0.0                319  \n",
       "1751                0.0                277  \n",
       "\n",
       "[1752 rows x 90 columns]"
      ]
     },
     "execution_count": 75,
     "metadata": {},
     "output_type": "execute_result"
    }
   ],
   "source": [
    "test = pd.concat([test, pred], axis=1)\n",
    "test"
   ]
  },
  {
   "cell_type": "code",
   "execution_count": 76,
   "id": "415252c1-1b32-4fbe-92b5-7fe09a3e706e",
   "metadata": {},
   "outputs": [],
   "source": [
    "test.to_csv('test_따릉이_예측완료.csv', index = False)"
   ]
  },
  {
   "cell_type": "markdown",
   "id": "4be242ff-71b2-4761-bdef-363954e8aa80",
   "metadata": {},
   "source": [
    "### (+) kfold 교차검증"
   ]
  },
  {
   "cell_type": "code",
   "execution_count": 77,
   "id": "88a2737b-b0e5-4997-a61e-fd1297bafd98",
   "metadata": {},
   "outputs": [],
   "source": [
    "X_train = bike.drop(['Rented Bike Count'], axis =1)\n",
    "y_train = bike['Rented Bike Count']\n",
    "y_train = np.log1p(y_train)"
   ]
  },
  {
   "cell_type": "code",
   "execution_count": 78,
   "id": "2a8fdc8f-c7be-4c93-a154-15190e83ebe2",
   "metadata": {},
   "outputs": [],
   "source": [
    "lgbm_reg_tune = LGBMRegressor(colsample_bytree=0.8,learning_rate=0.1,\n",
    "                             max_depth=-1, min_child_samples=20,\n",
    "                             n_estimators=500, num_leaves=31,\n",
    "                             subsample=0.6)"
   ]
  },
  {
   "cell_type": "code",
   "execution_count": 79,
   "id": "fe3591f2-7d58-4af9-9c52-ba1f68d14e57",
   "metadata": {},
   "outputs": [
    {
     "name": "stdout",
     "output_type": "stream",
     "text": [
      "예측 완료\n",
      "예측 완료\n",
      "예측 완료\n",
      "예측 완료\n",
      "예측 완료\n",
      "R2: 0.9390653743070196\n",
      "MAE: 92.046887665996\n",
      "RMSE: 159.6646380008978\n",
      "MSE: 25514.23755406526\n"
     ]
    }
   ],
   "source": [
    "r2 = []\n",
    "mae = []\n",
    "rmse = []\n",
    "mse = []\n",
    "\n",
    "kfold = KFold(n_splits=5, shuffle=True, random_state=10)\n",
    "\n",
    "for trn_idx, val_idx in kfold.split(X_train, y_train):\n",
    "    \n",
    "    X_trn, y_trn = X_train.iloc[trn_idx, :], y_train.iloc[trn_idx]\n",
    "    X_val, y_val = X_train.iloc[val_idx, :], y_train.iloc[val_idx]\n",
    "    \n",
    "    lgbm_reg_tune.fit(X_trn, y_trn)\n",
    "    y_pred = lgbm_reg_tune.predict(X_val)\n",
    "    \n",
    "    print('예측 완료')\n",
    "\n",
    "    y_val = np.expm1(y_val)\n",
    "    y_pred = np.expm1(y_pred)\n",
    "\n",
    "    r2.append(r2_score(y_val, y_pred))\n",
    "    mae.append(mean_absolute_error(y_val, y_pred))\n",
    "    rmse.append(np.sqrt(mean_squared_error(y_val, y_pred)))\n",
    "    mse.append(mean_squared_error(y_val, y_pred))\n",
    "\n",
    "mean_r2 = sum(r2) / len(r2)\n",
    "mean_mae = sum(mae) / len(mae)\n",
    "mean_rmse = sum(rmse) / len(rmse)\n",
    "mean_mse = sum(mse) / len(mse)\n",
    "\n",
    "print(\"R2:\", mean_r2)\n",
    "print('MAE:', mean_mae)\n",
    "print('RMSE:', mean_rmse)\n",
    "print('MSE:', mean_mse)"
   ]
  },
  {
   "cell_type": "code",
   "execution_count": 80,
   "id": "56d7c85e-a498-4c6f-b170-a468bf925191",
   "metadata": {},
   "outputs": [],
   "source": [
    "result = []\n",
    "\n",
    "kfold = KFold(n_splits=5, shuffle=True, random_state=10)\n",
    "\n",
    "for trn_idx, val_idx in kfold.split(X_train, y_train):\n",
    "    \n",
    "    X_trn, y_trn = X_train.iloc[trn_idx, :], y_train.iloc[trn_idx]\n",
    "    X_val, y_val = X_train.iloc[val_idx, :], y_train.iloc[val_idx]\n",
    "    \n",
    "    lgbm_reg_tune.fit(X_trn, y_trn)\n",
    "    \n",
    "    y_pred = lgbm_reg_tune.predict(X_test)\n",
    "    y_pred = np.expm1(y_pred)\n",
    "    \n",
    "    result.append(y_pred)"
   ]
  },
  {
   "cell_type": "code",
   "execution_count": 81,
   "id": "19e071b8-7332-4d0d-8cbc-3728e4b15996",
   "metadata": {},
   "outputs": [],
   "source": [
    "# axis=0으로 최빈값 계산\n",
    "\n",
    "final_predictions = np.mean(result, axis=0).astype('int64')"
   ]
  },
  {
   "cell_type": "code",
   "execution_count": 82,
   "id": "4869a122-437a-4495-97d4-6f45d883147d",
   "metadata": {},
   "outputs": [
    {
     "data": {
      "text/plain": [
       "array([283, 361, 277, ...,   0, 418, 248], dtype=int64)"
      ]
     },
     "execution_count": 82,
     "metadata": {},
     "output_type": "execute_result"
    }
   ],
   "source": [
    "final_predictions"
   ]
  },
  {
   "cell_type": "code",
   "execution_count": 83,
   "id": "b9e3bd34-151d-4b8f-b557-3f60371830ea",
   "metadata": {},
   "outputs": [],
   "source": [
    "test['Rented Bike Count'] = final_predictions"
   ]
  },
  {
   "cell_type": "code",
   "execution_count": 84,
   "id": "788402ce-f42e-48da-8df2-515863858007",
   "metadata": {},
   "outputs": [
    {
     "data": {
      "text/plain": [
       "<Axes: >"
      ]
     },
     "execution_count": 84,
     "metadata": {},
     "output_type": "execute_result"
    },
    {
     "data": {
      "image/png": "[encoded data removed]",
      "text/plain": [
       "<Figure size 640x480 with 1 Axes>"
      ]
     },
     "metadata": {
      "image/png": {
       "height": 413,
       "width": 552
      }
     },
     "output_type": "display_data"
    }
   ],
   "source": [
    "test['Rented Bike Count'].hist()"
   ]
  },
  {
   "cell_type": "code",
   "execution_count": 85,
   "id": "46a1b392-1c9e-4211-b685-cac8db2d43a1",
   "metadata": {},
   "outputs": [],
   "source": [
    "test.to_csv('test_따릉이_예측완료_kf.csv', index = False)"
   ]
  },
  {
   "cell_type": "code",
   "execution_count": null,
   "id": "3bcc80c7-6614-4e18-912c-9eeb3f60b15c",
   "metadata": {},
   "outputs": [],
   "source": []
  }
 ],
 "metadata": {
  "kernelspec": {
   "display_name": "Python 3 (ipykernel)",
   "language": "python",
   "name": "python3"
  },
  "language_info": {
   "codemirror_mode": {
    "name": "ipython",
    "version": 3
   },
   "file_extension": ".py",
   "mimetype": "text/x-python",
   "name": "python",
   "nbconvert_exporter": "python",
   "pygments_lexer": "ipython3",
   "version": "3.11.7"
  },
  "widgets": {
   "application/vnd.jupyter.widget-state+json": {
    "state": {},
    "version_major": 2,
    "version_minor": 0
   }
  }
 },
 "nbformat": 4,
 "nbformat_minor": 5
}
